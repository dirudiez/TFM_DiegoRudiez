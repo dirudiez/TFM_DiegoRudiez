{
  "nbformat": 4,
  "nbformat_minor": 0,
  "metadata": {
    "colab": {
      "name": "AutoencoderBasico_64.ipynb",
      "provenance": [],
      "authorship_tag": "ABX9TyMtYu7jFnximccslqPWwIlq",
      "include_colab_link": true
    },
    "kernelspec": {
      "name": "python3",
      "display_name": "Python 3"
    },
    "language_info": {
      "name": "python"
    },
    "accelerator": "GPU",
    "gpuClass": "standard"
  },
  "cells": [
    {
      "cell_type": "markdown",
      "metadata": {
        "id": "view-in-github",
        "colab_type": "text"
      },
      "source": [
        "<a href=\"https://colab.research.google.com/github/dirudiez/TFM_DiegoRudiez/blob/main/AutoencoderBasico_64.ipynb\" target=\"_parent\"><img src=\"https://colab.research.google.com/assets/colab-badge.svg\" alt=\"Open In Colab\"/></a>"
      ]
    },
    {
      "cell_type": "code",
      "execution_count": 2,
      "metadata": {
        "id": "tAvUFsHb448w"
      },
      "outputs": [],
      "source": [
        "import PIL\n",
        "import cv2\n",
        "import os\n",
        "\n",
        "import numpy as np\n",
        "import pandas as pd\n",
        "import tensorflow as tf\n",
        "from tensorflow import keras\n",
        "from tensorflow.keras import layers\n",
        "from tensorflow.keras import backend as K\n",
        "import warnings\n",
        "warnings.filterwarnings(\"ignore\")\n",
        "import matplotlib.pyplot as plt"
      ]
    },
    {
      "cell_type": "markdown",
      "source": [
        "Nos descargamos las imágenes con un ancho de 256 de ancho. Vamos a ir escalando a 64, 128 y 256. Lo haremos con cv2.resize()"
      ],
      "metadata": {
        "id": "WDtryfGs5mc1"
      }
    },
    {
      "cell_type": "code",
      "source": [
        "IMG_SIZE = 64"
      ],
      "metadata": {
        "id": "jQLfcOLo6Fd9"
      },
      "execution_count": 3,
      "outputs": []
    },
    {
      "cell_type": "code",
      "source": [
        "!wget https://www.dropbox.com/s/o1eaoae59qgdo4i/Training_Set_Pre.zip?dl=0 --no-verbose -O train.zip\n",
        "!wget https://www.dropbox.com/s/5od5cac9xhxlcwu/Test_Set_Pre.zip?dl=0 --no-verbose -O test.zip\n",
        "!wget https://www.dropbox.com/s/gjz445xm4oddfus/Evaluation_Set_Pre.zip?dl=0 --no-verbose -O val.zip"
      ],
      "metadata": {
        "colab": {
          "base_uri": "https://localhost:8080/"
        },
        "id": "XaSBEV_15kRn",
        "outputId": "038d342a-e3fa-4a75-b53c-2cb42179249d"
      },
      "execution_count": 4,
      "outputs": [
        {
          "output_type": "stream",
          "name": "stdout",
          "text": [
            "2022-06-21 17:07:27 URL:https://ucbefc82a6d08d41f4920f97575c.dl.dropboxusercontent.com/cd/0/inline2/BnonPQKgZIv5-nCzMArB5cGqPyPSXCIqSd5l0TMHAS5FBCBJksyr0WqPmp334sZ-_HsEJ9dVqdyQT6MgG-sWSiTB6OxU-JvyyzywjPbX6ArVPlZirKi8TTwwCZe2AdEbi3bEGxlILRNOnnnLI0Nl5yrF6JNYiunVN2THZsmBbyFpbQAbNLQXqOCR1WufU9TuK26nXlChGais4qhe1NUpc1FAP1j3FJDkOxvrJK9a65x8lUEsEgWdLAWyLRo0iQBXJRDnYdlontLCsDDgcUBLk_7zGeyPD3752jgvDeE9TatIVoIrzmnkWgJW_F3bCiqGz63_RV6PhoMsKfTbg709bJaT6Y3dtIShS0e74qgI0QdmsGIzNVkMDU3CUdPMt-4XYDMGb-vuZqGl02ig9oxODjc7Ie9C9tA6ym6JcBcbcUkJ8w/file [138777773/138777773] -> \"train.zip\" [1]\n",
            "2022-06-21 17:07:30 URL:https://uc8ee30fed83ac3e7b90165e45cd.dl.dropboxusercontent.com/cd/0/inline2/BnqEdWVBhbdjCG7g6t5UlP2Vlydx-YYSdzmGSlEeHvvjSyn9dyeJ1di7TWMx2OabSzksteE74g8I9Th1ziLBY5K-xL_wtcIfw8hSnbngSOa2l2j7i5jzbaR-9uChQSiPPcNgGSNhxTbfC175Zq4mUV_Aim1-qhnaMor3AA5Bq-op6G_bfxZUPYyD3f711uGlnaKEZdXUvrcS-HLvHjoXgci7yhEgKhPMSO4FqgHND8u5uZXP2VPiNmSP22XzxvAFVDBwJLAQ1Cf-uc_aShZs0rYup9qSJNqffCGBprpXMcnxSDne20jGYJ5X6sV9HQd07hQiJm05Gsvt_gEE_FsOwcQtbiYySLRZaSv0X2ZnoCPjN5EmKvZS2d4fgdXgD1jUVHtB6XIan0OOmZSanBf5YzcKOWyYkHIDBqjPvPcrN3U4wg/file [47874561/47874561] -> \"test.zip\" [1]\n",
            "2022-06-21 17:07:33 URL:https://uc261881cdeae83d1140b38d87ff.dl.dropboxusercontent.com/cd/0/inline2/Bno6fqZ_Xn76tfafUet2t6RNQicedN0FWDJb0HIboR9xBJcdVxZKTwG-hkuB1VAMXM8AYTBMDPQG1Y_QQsNttysipoNfY-9BHf3jOHkwHjZB2_Xdaa5_x3kz_Ob5hRE9eGPtkYI9gbAj5X5tmvdjii-0DhFUGKzE2juslQtG9T_StGr_cQgSP4j8yrnU_2A3ORQw2sCL9SvUUrpLKyRjUnT0UYFlJ6s9GT27fG95voqhK0h97pkg6k7YQgrDWD8ZXslPyTENyDS0E-cQBL74fBOwfukKSP-4JzUHFMftd0i-gru-s2b4O6h6QaQVDSclYWxkQ0oAKE0gl_zrDu4rclExnbqM1D_tAlSKJUtBRGrFe7xFMqpgUVizWwKCVWhZITPlahm_-BZjSFq60RPO4qun8RU49ElANTNY6_-oYz_CHg/file [47378914/47378914] -> \"val.zip\" [1]\n"
          ]
        }
      ]
    },
    {
      "cell_type": "code",
      "source": [
        "# !rm -rvf Training_Set_Pre\n",
        "!unzip -qq train.zip #-qq no verbose\n",
        "!unzip -qq test.zip\n",
        "!unzip -qq val.zip"
      ],
      "metadata": {
        "id": "Qx3WqBTt5lwt"
      },
      "execution_count": 5,
      "outputs": []
    },
    {
      "cell_type": "code",
      "source": [
        "#Método para crear estructura de directorios\n",
        "def crearEstructura(nombreDataset, clases):\n",
        "  !mkdir \"$nombreDataset\"\n",
        "  !mkdir \"$nombreDataset\"/test\n",
        "  !mkdir \"$nombreDataset\"/train\n",
        "  !mkdir \"$nombreDataset\"/val\n",
        "  for x in clases:\n",
        "    !mkdir \"$nombreDataset\"/train/\"$x\"\n",
        "    !mkdir \"$nombreDataset\"/test/\"$x\"\n",
        "    !mkdir \"$nombreDataset\"/val/\"$x\"\n",
        "\n",
        "crearEstructura('dataset', ['normal', 'enfermedad'])"
      ],
      "metadata": {
        "id": "Rr3kWTRI8_Sl"
      },
      "execution_count": 6,
      "outputs": []
    },
    {
      "cell_type": "code",
      "source": [
        "trainPath = 'Training_Set_Pre/'\n",
        "testPath  = 'Test_Set_Pre/'\n",
        "valPath  =  'Evaluation_Set_Pre/'"
      ],
      "metadata": {
        "id": "CpRVrMMH650t"
      },
      "execution_count": 7,
      "outputs": []
    },
    {
      "cell_type": "code",
      "source": [
        "dirsTrain = os.listdir( trainPath +  'Training/')\n",
        "dirsTest = os.listdir( testPath + 'Test/')\n",
        "dirsVal = os.listdir( valPath + 'Validation/')"
      ],
      "metadata": {
        "id": "cslyIRdU68ME"
      },
      "execution_count": 8,
      "outputs": []
    },
    {
      "cell_type": "code",
      "source": [
        "import shutil\n",
        "\n",
        "def moverImg(df, pathO, pathD):\n",
        "  for id, enf in zip(df['ID'], df['Disease_Risk']):\n",
        "    image = cv2.imread(pathO + '/' + str(id) + '.png')\n",
        "    image = cv2.cvtColor(image, cv2.COLOR_BGR2RGB)\n",
        "    image = cv2.resize(image, (IMG_SIZE, IMG_SIZE))\n",
        "    if(int(enf)==0):\n",
        "      cv2.imwrite(pathD + '/normal/' + str(id) + '.png', cv2.cvtColor(image, cv2.COLOR_BGR2RGB))\n",
        "    else:\n",
        "      cv2.imwrite(pathD + '/enfermedad/' + str(id) + '.png', cv2.cvtColor(image, cv2.COLOR_BGR2RGB))"
      ],
      "metadata": {
        "id": "qJndvjGK6HOX"
      },
      "execution_count": 9,
      "outputs": []
    },
    {
      "cell_type": "code",
      "source": [
        "df_train = pd.read_csv(trainPath + '/train.csv')\n",
        "df_test = pd.read_csv(testPath + '/test.csv')\n",
        "df_val = pd.read_csv(valPath + '/val.csv')"
      ],
      "metadata": {
        "id": "_ADo0nu17czM"
      },
      "execution_count": 10,
      "outputs": []
    },
    {
      "cell_type": "code",
      "source": [
        "path = 'dataset'"
      ],
      "metadata": {
        "id": "AKFTg0ik89w5"
      },
      "execution_count": 11,
      "outputs": []
    },
    {
      "cell_type": "code",
      "source": [
        "moverImg(df_train, trainPath + 'Training/', path  + '/train')\n",
        "moverImg(df_test, testPath + 'Test/', path  + '/test')\n",
        "moverImg(df_val, valPath + 'Validation/', path  + '/val')"
      ],
      "metadata": {
        "id": "gDQPygLU9ylV"
      },
      "execution_count": 12,
      "outputs": []
    },
    {
      "cell_type": "markdown",
      "source": [
        "Ya la tenemos reescalada a la medida deseada:"
      ],
      "metadata": {
        "id": "KeRWXitIB4Rc"
      }
    },
    {
      "cell_type": "code",
      "source": [
        "plt.imshow(cv2.cvtColor(cv2.imread(path  + '/train/normal/10.png'), cv2.COLOR_BGR2RGB))"
      ],
      "metadata": {
        "colab": {
          "base_uri": "https://localhost:8080/",
          "height": 286
        },
        "id": "bgqMaDBgA2MT",
        "outputId": "73915c41-0906-4fd1-e1f0-666957264468"
      },
      "execution_count": 13,
      "outputs": [
        {
          "output_type": "execute_result",
          "data": {
            "text/plain": [
              "<matplotlib.image.AxesImage at 0x7f483e943110>"
            ]
          },
          "metadata": {},
          "execution_count": 13
        },
        {
          "output_type": "display_data",
          "data": {
            "text/plain": [
              "<Figure size 432x288 with 1 Axes>"
            ],
            "image/png": "[encoded data removed]"
          },
          "metadata": {
            "needs_background": "light"
          }
        }
      ]
    },
    {
      "cell_type": "code",
      "source": [
        "img = cv2.imread(path  + '/train/normal/10.png')\n",
        "img.shape"
      ],
      "metadata": {
        "colab": {
          "base_uri": "https://localhost:8080/"
        },
        "id": "HN2pH0dLD5K6",
        "outputId": "42dcede4-5c5d-46d0-c8a9-dceb1fff486e"
      },
      "execution_count": 14,
      "outputs": [
        {
          "output_type": "execute_result",
          "data": {
            "text/plain": [
              "(64, 64, 3)"
            ]
          },
          "metadata": {},
          "execution_count": 14
        }
      ]
    },
    {
      "cell_type": "markdown",
      "source": [
        "## Autoencoder"
      ],
      "metadata": {
        "id": "DDQc4U3R8lEW"
      }
    },
    {
      "cell_type": "code",
      "source": [
        "input_img = layers.Input(shape=(64,64,3))"
      ],
      "metadata": {
        "id": "AvZJ6Nu48mW1"
      },
      "execution_count": 67,
      "outputs": []
    },
    {
      "cell_type": "markdown",
      "source": [
        "### Encoder"
      ],
      "metadata": {
        "id": "xpv9X5bsCJ8a"
      }
    },
    {
      "cell_type": "code",
      "source": [
        "# Capa convolucional con 32 filtros de tamaño 3x3 seguida de una función de activación relu y aplicando padding\n",
        "x = layers.Conv2D(32, (3, 3), activation='relu', padding='same')(input_img)\n",
        "# Capa de max pooling con filtro de tamaño 2x2 y aplicando padding\n",
        "x = layers.MaxPooling2D((2, 2), padding='same')(x)\n",
        "x = layers.Conv2D(32, (3, 3), activation='relu', padding='same')(x)\n",
        "encoded = layers.MaxPooling2D((2, 2), padding='same')(x)"
      ],
      "metadata": {
        "id": "eBu36EwHB9Iv"
      },
      "execution_count": 68,
      "outputs": []
    },
    {
      "cell_type": "markdown",
      "source": [
        "### Decoder"
      ],
      "metadata": {
        "id": "vsp46o2FCOQK"
      }
    },
    {
      "cell_type": "code",
      "source": [
        "# Capa convolucional con 32 filtros de tamaño 3x3 seguida de una función de activación relu y aplicando padding\n",
        "x = layers.Conv2D(32, (3, 3), activation='relu', padding='same')(encoded)\n",
        " # Capa de upsampling con filtro de tamaño 2x2 y aplicando padding\n",
        "x = layers.UpSampling2D((2, 2))(x)\n",
        "x = layers.Conv2D(32, (3, 3), activation='relu', padding='same')(x)\n",
        "x = layers.UpSampling2D((2, 2))(x)\n",
        "decoded = layers.Conv2D(1, (3, 3), activation='sigmoid', padding='same')(x)"
      ],
      "metadata": {
        "id": "qc-LkGARCMOJ"
      },
      "execution_count": 69,
      "outputs": []
    },
    {
      "cell_type": "code",
      "source": [
        "autoencoder = keras.Model(input_img, decoded)\n",
        "autoencoder.compile(optimizer='adam', loss='binary_crossentropy')"
      ],
      "metadata": {
        "id": "djFJ_7WLCQRo"
      },
      "execution_count": 70,
      "outputs": []
    },
    {
      "cell_type": "code",
      "source": [
        "gg = np.array([np.asarray(img)])"
      ],
      "metadata": {
        "id": "GOrLTKvrDpLb"
      },
      "execution_count": 81,
      "outputs": []
    },
    {
      "cell_type": "code",
      "source": [
        "gg.shape"
      ],
      "metadata": {
        "id": "bOwEX840SMRD",
        "outputId": "9813c201-e613-4ff3-81e5-601360565b61",
        "colab": {
          "base_uri": "https://localhost:8080/"
        }
      },
      "execution_count": 82,
      "outputs": [
        {
          "output_type": "execute_result",
          "data": {
            "text/plain": [
              "(1, 64, 64, 3)"
            ]
          },
          "metadata": {},
          "execution_count": 82
        }
      ]
    },
    {
      "cell_type": "code",
      "source": [
        "autoencoder.fit(gg,gg,\n",
        "                epochs=50,\n",
        "                batch_size=128)"
      ],
      "metadata": {
        "colab": {
          "base_uri": "https://localhost:8080/",
          "height": 805
        },
        "id": "iVHNXdFUCR7z",
        "outputId": "df8961fe-c5d8-4041-ded2-95d98caefe15"
      },
      "execution_count": 86,
      "outputs": [
        {
          "output_type": "stream",
          "name": "stdout",
          "text": [
            "Epoch 1/50\n"
          ]
        },
        {
          "output_type": "error",
          "ename": "ValueError",
          "evalue": "ignored",
          "traceback": [
            "\u001b[0;31m---------------------------------------------------------------------------\u001b[0m",
            "\u001b[0;31mValueError\u001b[0m                                Traceback (most recent call last)",
            "\u001b[0;32m<ipython-input-86-a2037cf10801>\u001b[0m in \u001b[0;36m<module>\u001b[0;34m()\u001b[0m\n\u001b[1;32m      1\u001b[0m autoencoder.fit(gg,gg,\n\u001b[1;32m      2\u001b[0m                 \u001b[0mepochs\u001b[0m\u001b[0;34m=\u001b[0m\u001b[0;36m50\u001b[0m\u001b[0;34m,\u001b[0m\u001b[0;34m\u001b[0m\u001b[0;34m\u001b[0m\u001b[0m\n\u001b[0;32m----> 3\u001b[0;31m                 batch_size=128)\n\u001b[0m",
            "\u001b[0;32m/usr/local/lib/python3.7/dist-packages/keras/utils/traceback_utils.py\u001b[0m in \u001b[0;36merror_handler\u001b[0;34m(*args, **kwargs)\u001b[0m\n\u001b[1;32m     65\u001b[0m     \u001b[0;32mexcept\u001b[0m \u001b[0mException\u001b[0m \u001b[0;32mas\u001b[0m \u001b[0me\u001b[0m\u001b[0;34m:\u001b[0m  \u001b[0;31m# pylint: disable=broad-except\u001b[0m\u001b[0;34m\u001b[0m\u001b[0;34m\u001b[0m\u001b[0m\n\u001b[1;32m     66\u001b[0m       \u001b[0mfiltered_tb\u001b[0m \u001b[0;34m=\u001b[0m \u001b[0m_process_traceback_frames\u001b[0m\u001b[0;34m(\u001b[0m\u001b[0me\u001b[0m\u001b[0;34m.\u001b[0m\u001b[0m__traceback__\u001b[0m\u001b[0;34m)\u001b[0m\u001b[0;34m\u001b[0m\u001b[0;34m\u001b[0m\u001b[0m\n\u001b[0;32m---> 67\u001b[0;31m       \u001b[0;32mraise\u001b[0m \u001b[0me\u001b[0m\u001b[0;34m.\u001b[0m\u001b[0mwith_traceback\u001b[0m\u001b[0;34m(\u001b[0m\u001b[0mfiltered_tb\u001b[0m\u001b[0;34m)\u001b[0m \u001b[0;32mfrom\u001b[0m \u001b[0;32mNone\u001b[0m\u001b[0;34m\u001b[0m\u001b[0;34m\u001b[0m\u001b[0m\n\u001b[0m\u001b[1;32m     68\u001b[0m     \u001b[0;32mfinally\u001b[0m\u001b[0;34m:\u001b[0m\u001b[0;34m\u001b[0m\u001b[0;34m\u001b[0m\u001b[0m\n\u001b[1;32m     69\u001b[0m       \u001b[0;32mdel\u001b[0m \u001b[0mfiltered_tb\u001b[0m\u001b[0;34m\u001b[0m\u001b[0;34m\u001b[0m\u001b[0m\n",
            "\u001b[0;32m/usr/local/lib/python3.7/dist-packages/tensorflow/python/framework/func_graph.py\u001b[0m in \u001b[0;36mautograph_handler\u001b[0;34m(*args, **kwargs)\u001b[0m\n\u001b[1;32m   1145\u001b[0m           \u001b[0;32mexcept\u001b[0m \u001b[0mException\u001b[0m \u001b[0;32mas\u001b[0m \u001b[0me\u001b[0m\u001b[0;34m:\u001b[0m  \u001b[0;31m# pylint:disable=broad-except\u001b[0m\u001b[0;34m\u001b[0m\u001b[0;34m\u001b[0m\u001b[0m\n\u001b[1;32m   1146\u001b[0m             \u001b[0;32mif\u001b[0m \u001b[0mhasattr\u001b[0m\u001b[0;34m(\u001b[0m\u001b[0me\u001b[0m\u001b[0;34m,\u001b[0m \u001b[0;34m\"ag_error_metadata\"\u001b[0m\u001b[0;34m)\u001b[0m\u001b[0;34m:\u001b[0m\u001b[0;34m\u001b[0m\u001b[0;34m\u001b[0m\u001b[0m\n\u001b[0;32m-> 1147\u001b[0;31m               \u001b[0;32mraise\u001b[0m \u001b[0me\u001b[0m\u001b[0;34m.\u001b[0m\u001b[0mag_error_metadata\u001b[0m\u001b[0;34m.\u001b[0m\u001b[0mto_exception\u001b[0m\u001b[0;34m(\u001b[0m\u001b[0me\u001b[0m\u001b[0;34m)\u001b[0m\u001b[0;34m\u001b[0m\u001b[0;34m\u001b[0m\u001b[0m\n\u001b[0m\u001b[1;32m   1148\u001b[0m             \u001b[0;32melse\u001b[0m\u001b[0;34m:\u001b[0m\u001b[0;34m\u001b[0m\u001b[0;34m\u001b[0m\u001b[0m\n\u001b[1;32m   1149\u001b[0m               \u001b[0;32mraise\u001b[0m\u001b[0;34m\u001b[0m\u001b[0;34m\u001b[0m\u001b[0m\n",
            "\u001b[0;31mValueError\u001b[0m: in user code:\n\n    File \"/usr/local/lib/python3.7/dist-packages/keras/engine/training.py\", line 1021, in train_function  *\n        return step_function(self, iterator)\n    File \"/usr/local/lib/python3.7/dist-packages/keras/engine/training.py\", line 1010, in step_function  **\n        outputs = model.distribute_strategy.run(run_step, args=(data,))\n    File \"/usr/local/lib/python3.7/dist-packages/keras/engine/training.py\", line 1000, in run_step  **\n        outputs = model.train_step(data)\n    File \"/usr/local/lib/python3.7/dist-packages/keras/engine/training.py\", line 860, in train_step\n        loss = self.compute_loss(x, y, y_pred, sample_weight)\n    File \"/usr/local/lib/python3.7/dist-packages/keras/engine/training.py\", line 919, in compute_loss\n        y, y_pred, sample_weight, regularization_losses=self.losses)\n    File \"/usr/local/lib/python3.7/dist-packages/keras/engine/compile_utils.py\", line 201, in __call__\n        loss_value = loss_obj(y_t, y_p, sample_weight=sw)\n    File \"/usr/local/lib/python3.7/dist-packages/keras/losses.py\", line 141, in __call__\n        losses = call_fn(y_true, y_pred)\n    File \"/usr/local/lib/python3.7/dist-packages/keras/losses.py\", line 245, in call  **\n        return ag_fn(y_true, y_pred, **self._fn_kwargs)\n    File \"/usr/local/lib/python3.7/dist-packages/keras/losses.py\", line 1932, in binary_crossentropy\n        backend.binary_crossentropy(y_true, y_pred, from_logits=from_logits),\n    File \"/usr/local/lib/python3.7/dist-packages/keras/backend.py\", line 5247, in binary_crossentropy\n        return tf.nn.sigmoid_cross_entropy_with_logits(labels=target, logits=output)\n\n    ValueError: `logits` and `labels` must have the same shape, received ((None, 64, 64, 1) vs (None, 64, 64, 3)).\n"
          ]
        }
      ]
    },
    {
      "cell_type": "code",
      "source": [
        "plt.imshow(gg[0])"
      ],
      "metadata": {
        "id": "20DRHzfSPM-R",
        "outputId": "6fe6332b-9178-4bff-9bd5-8611e4d390d7",
        "colab": {
          "base_uri": "https://localhost:8080/",
          "height": 286
        }
      },
      "execution_count": 87,
      "outputs": [
        {
          "output_type": "execute_result",
          "data": {
            "text/plain": [
              "<matplotlib.image.AxesImage at 0x7f47a985ef10>"
            ]
          },
          "metadata": {},
          "execution_count": 87
        },
        {
          "output_type": "display_data",
          "data": {
            "text/plain": [
              "<Figure size 432x288 with 1 Axes>"
            ],
            "image/png": "[encoded data removed]"
          },
          "metadata": {
            "needs_background": "light"
          }
        }
      ]
    },
    {
      "cell_type": "code",
      "source": [
        ""
      ],
      "metadata": {
        "id": "2RulwB1JPbXU"
      },
      "execution_count": null,
      "outputs": []
    }
  ]
}