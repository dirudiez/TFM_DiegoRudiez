{
  "nbformat": 4,
  "nbformat_minor": 0,
  "metadata": {
    "colab": {
      "name": "AutoencoderBasico_64.ipynb",
      "provenance": [],
      "authorship_tag": "ABX9TyNfhAmuAiE0Lc5XFqKoYxGQ",
      "include_colab_link": true
    },
    "kernelspec": {
      "name": "python3",
      "display_name": "Python 3"
    },
    "language_info": {
      "name": "python"
    },
    "accelerator": "GPU",
    "gpuClass": "standard"
  },
  "cells": [
    {
      "cell_type": "markdown",
      "metadata": {
        "id": "view-in-github",
        "colab_type": "text"
      },
      "source": [
        "<a href=\"https://colab.research.google.com/github/dirudiez/TFM_DiegoRudiez/blob/main/AutoencoderBasico_64.ipynb\" target=\"_parent\"><img src=\"https://colab.research.google.com/assets/colab-badge.svg\" alt=\"Open In Colab\"/></a>"
      ]
    },
    {
      "cell_type": "code",
      "execution_count": 29,
      "metadata": {
        "id": "tAvUFsHb448w"
      },
      "outputs": [],
      "source": [
        "import PIL\n",
        "import cv2\n",
        "import os\n",
        "\n",
        "import numpy as np\n",
        "import pandas as pd\n",
        "import tensorflow as tf\n",
        "from tensorflow import keras\n",
        "from tensorflow.keras import layers\n",
        "from tensorflow.keras import backend as K\n",
        "import warnings\n",
        "warnings.filterwarnings(\"ignore\")\n",
        "import matplotlib.pyplot as plt"
      ]
    },
    {
      "cell_type": "markdown",
      "source": [
        "Nos descargamos las imágenes con un ancho de 256 de ancho. Vamos a ir escalando a 64, 128 y 256. Lo haremos con cv2.resize()"
      ],
      "metadata": {
        "id": "WDtryfGs5mc1"
      }
    },
    {
      "cell_type": "code",
      "source": [
        "IMG_SIZE = 64"
      ],
      "metadata": {
        "id": "jQLfcOLo6Fd9"
      },
      "execution_count": 2,
      "outputs": []
    },
    {
      "cell_type": "code",
      "source": [
        "!wget https://www.dropbox.com/s/o1eaoae59qgdo4i/Training_Set_Pre.zip?dl=0 --no-verbose -O train.zip\n",
        "!wget https://www.dropbox.com/s/5od5cac9xhxlcwu/Test_Set_Pre.zip?dl=0 --no-verbose -O test.zip\n",
        "!wget https://www.dropbox.com/s/gjz445xm4oddfus/Evaluation_Set_Pre.zip?dl=0 --no-verbose -O val.zip"
      ],
      "metadata": {
        "id": "XaSBEV_15kRn",
        "outputId": "8773db76-3a21-4802-d2c2-f05f1aca684d",
        "colab": {
          "base_uri": "https://localhost:8080/"
        }
      },
      "execution_count": 3,
      "outputs": [
        {
          "output_type": "stream",
          "name": "stdout",
          "text": [
            "2022-06-21 15:36:33 URL:https://uc5cb9ac68036ca2aaa4790e94c4.dl.dropboxusercontent.com/cd/0/inline2/BnrbjNkz_oHbrNgTffLDZT2BD9rtpH6XjzZdKfxgaeOcHqG9wLYQRKE6MyaPbncRL3btzWIScibdXFpybeQiwoHXDWZgK-5TdBS4v4011tJcO4BlP1O7vFLbsynreW72LrSFFF-D-o32T-DTMNG5wLVjCKSaysoeMNd06U3FSyKGHAJIaolKTgy4MGbEWDQk96PrsPYme-L0GCf9dAI_INcM6KEyBgd4pHjUvl0Wxvbx-cLR6LiUi6qV4DrgSe3tf6_4dDgzP89S0vtgQr_44l0onscnGR1Pas9CCDGceRD_XC7kb0Sw6BHG-M814SsGV61iaw9DWsIIwG57rBLDxq7TK-f_OKxAna_0-qRurEhI3o3Nmy94tqd7F_gmSkRdQYj4QVRN9TiVrVn68NJ3bE5H5PL-D02NcnCmzWzDa3Oy9w/file [138777773/138777773] -> \"train.zip\" [1]\n",
            "2022-06-21 15:36:35 URL:https://uc0a9bcf7fa086b218e31db17a0b.dl.dropboxusercontent.com/cd/0/inline2/BnoSdil9x6yqsnyVyGWko1Ryvb57r0Cv9zHxt6KU19k8mDrLvbsgBqkZkTLSbaY9WgkTYbeahoBxdYG-cYdX8PGN_HOGTGn04-cJWmnMf7wMlp21HAXpMXoUTHW7a0Gk4Sf34eLrHN5JG6WhvSyl9hCJGmcZr1bQ1R1265HqqCWGIyAZlgrytloNTuk1YjmRSfT7kcWXTHNf-ppJ-FIewMdKDERtpf7x4trMuzI7mwvQXdLKj7IpQKOVtKDgu7Kf2OLX3QLziOIH1VI-OLEWIM-_q7KkqZVufuTtM0c11jo7RXbiNFo_joiNCyBbxBwSHxCZVhkuOw-PbLdW_EytzFW5hJnp-zTvd9mzKX1DwqMTO85AA2dO4Gg3aA9IFhcYA5RiriG7F4rI1-kh7PrXW9jSzXJ6xSNtBpduo-_ZDSFpJw/file [47874561/47874561] -> \"test.zip\" [1]\n",
            "2022-06-21 15:36:38 URL:https://uc22d4997f8a58ba391a469e6750.dl.dropboxusercontent.com/cd/0/inline2/BnplbF6cek6ajobiim__ulmdfR0tiF3ZTS8V1msXiMY7nDbOIv947UN0At06QpSiSAzOJM4039liJ77rkEIxNARQvrhrjebU2ZSMaX-nt8lPP5nBs7LnmmeXFd4BovFeUli0gJW9iV5sR6P_8VdZmFcsp1MZKMOqzpdZEpi6xn29qDP5KJcgO80zFEZzlkGhPFYpbyNLq4imhyiTTd4achI3Ck-ND4k-Yqae4Re3YsXOk13k1_4R8ulLfh_n5t0TMnFCfQqx2yC-oXZaowdhzHrzNPz5FOvOJ83fovkw6RPsi-yUya0QNZyfN0iv5uCQ1NaQCz8TifKZ81AZ4wfzoKepEVgtOAu6uDdNJW6FadjUv7LIlQcKjTyWHMxoihWBE4X2958TLdfes7_uAUxnEe1GJJx6Jj46LKTRA1_cWdGHNA/file [47378914/47378914] -> \"val.zip\" [1]\n"
          ]
        }
      ]
    },
    {
      "cell_type": "code",
      "source": [
        "# !rm -rvf Training_Set_Pre\n",
        "!unzip -qq train.zip #-qq no verbose\n",
        "!unzip -qq test.zip\n",
        "!unzip -qq val.zip"
      ],
      "metadata": {
        "id": "Qx3WqBTt5lwt"
      },
      "execution_count": 4,
      "outputs": []
    },
    {
      "cell_type": "code",
      "source": [
        "#Método para crear estructura de directorios\n",
        "def crearEstructura(nombreDataset, clases):\n",
        "  !mkdir \"$nombreDataset\"\n",
        "  !mkdir \"$nombreDataset\"/test\n",
        "  !mkdir \"$nombreDataset\"/train\n",
        "  !mkdir \"$nombreDataset\"/val\n",
        "  for x in clases:\n",
        "    !mkdir \"$nombreDataset\"/train/\"$x\"\n",
        "    !mkdir \"$nombreDataset\"/test/\"$x\"\n",
        "    !mkdir \"$nombreDataset\"/val/\"$x\"\n",
        "\n",
        "crearEstructura('dataset', ['normal', 'enfermedad'])"
      ],
      "metadata": {
        "id": "Rr3kWTRI8_Sl"
      },
      "execution_count": 63,
      "outputs": []
    },
    {
      "cell_type": "code",
      "source": [
        "trainPath = 'Training_Set_Pre/'\n",
        "testPath  = 'Test_Set_Pre/'\n",
        "valPath  =  'Evaluation_Set_Pre/'"
      ],
      "metadata": {
        "id": "CpRVrMMH650t"
      },
      "execution_count": 20,
      "outputs": []
    },
    {
      "cell_type": "code",
      "source": [
        "dirsTrain = os.listdir( trainPath +  'Training/')\n",
        "dirsTest = os.listdir( testPath + 'Test/')\n",
        "dirsVal = os.listdir( valPath + 'Validation/')"
      ],
      "metadata": {
        "id": "cslyIRdU68ME"
      },
      "execution_count": 24,
      "outputs": []
    },
    {
      "cell_type": "code",
      "source": [
        "import shutil\n",
        "\n",
        "def moverImg(df, pathO, pathD):\n",
        "  for id, enf in zip(df['ID'], df['Disease_Risk']):\n",
        "    image = cv2.imread(pathO + '/' + str(id) + '.png')\n",
        "    image = cv2.cvtColor(image, cv2.COLOR_BGR2RGB)\n",
        "    image = cv2.resize(image, (IMG_SIZE, IMG_SIZE))\n",
        "    if(int(enf)==0):\n",
        "      cv2.imwrite(pathD + '/normal/' + str(id) + '.png', cv2.cvtColor(image, cv2.COLOR_BGR2RGB))\n",
        "    else:\n",
        "      cv2.imwrite(pathD + '/enfermedad/' + str(id) + '.png', cv2.cvtColor(image, cv2.COLOR_BGR2RGB))"
      ],
      "metadata": {
        "id": "qJndvjGK6HOX"
      },
      "execution_count": 67,
      "outputs": []
    },
    {
      "cell_type": "code",
      "source": [
        "df_train = pd.read_csv(trainPath + '/train.csv')\n",
        "df_test = pd.read_csv(testPath + '/test.csv')\n",
        "df_val = pd.read_csv(valPath + '/val.csv')"
      ],
      "metadata": {
        "id": "_ADo0nu17czM"
      },
      "execution_count": 68,
      "outputs": []
    },
    {
      "cell_type": "code",
      "source": [
        "path = 'dataset'"
      ],
      "metadata": {
        "id": "AKFTg0ik89w5"
      },
      "execution_count": 34,
      "outputs": []
    },
    {
      "cell_type": "code",
      "source": [
        "moverImg(df_train, trainPath + 'Training/', path  + '/train')\n",
        "moverImg(df_test, testPath + 'Test/', path  + '/test')\n",
        "moverImg(df_val, valPath + 'Validation/', path  + '/val')"
      ],
      "metadata": {
        "id": "gDQPygLU9ylV"
      },
      "execution_count": 69,
      "outputs": []
    },
    {
      "cell_type": "markdown",
      "source": [
        "Ya la tenemos reescalada a la medida deseada:"
      ],
      "metadata": {
        "id": "KeRWXitIB4Rc"
      }
    },
    {
      "cell_type": "code",
      "source": [
        "plt.imshow(cv2.cvtColor(cv2.imread(path  + '/train/normal/10.png'), cv2.COLOR_BGR2RGB))"
      ],
      "metadata": {
        "id": "bgqMaDBgA2MT",
        "outputId": "8e9f44af-beb1-4110-c0f1-3b97153e4468",
        "colab": {
          "base_uri": "https://localhost:8080/",
          "height": 286
        }
      },
      "execution_count": 80,
      "outputs": [
        {
          "output_type": "execute_result",
          "data": {
            "text/plain": [
              "<matplotlib.image.AxesImage at 0x7f3065fb89d0>"
            ]
          },
          "metadata": {},
          "execution_count": 80
        },
        {
          "output_type": "display_data",
          "data": {
            "text/plain": [
              "<Figure size 432x288 with 1 Axes>"
            ],
            "image/png": "[encoded data removed]"
          },
          "metadata": {
            "needs_background": "light"
          }
        }
      ]
    },
    {
      "cell_type": "code",
      "source": [
        "img = cv2.imread(path  + '/train/normal/10.png')\n",
        "img.shape"
      ],
      "metadata": {
        "id": "HN2pH0dLD5K6",
        "outputId": "064c05cf-1c84-47f5-d339-fe19a242f6b8",
        "colab": {
          "base_uri": "https://localhost:8080/"
        }
      },
      "execution_count": 89,
      "outputs": [
        {
          "output_type": "execute_result",
          "data": {
            "text/plain": [
              "(64, 64, 3)"
            ]
          },
          "metadata": {},
          "execution_count": 89
        }
      ]
    },
    {
      "cell_type": "markdown",
      "source": [
        "## Autoencoder"
      ],
      "metadata": {
        "id": "DDQc4U3R8lEW"
      }
    },
    {
      "cell_type": "code",
      "source": [
        "input_img = layers.Input(shape=(64,64,3))"
      ],
      "metadata": {
        "id": "AvZJ6Nu48mW1"
      },
      "execution_count": 81,
      "outputs": []
    },
    {
      "cell_type": "markdown",
      "source": [
        "### Encoder"
      ],
      "metadata": {
        "id": "xpv9X5bsCJ8a"
      }
    },
    {
      "cell_type": "code",
      "source": [
        "# Capa convolucional con 32 filtros de tamaño 3x3 seguida de una función de activación relu y aplicando padding\n",
        "x = layers.Conv2D(32, (3, 3), activation='relu', padding='same')(input_img)\n",
        "# Capa de max pooling con filtro de tamaño 2x2 y aplicando padding\n",
        "x = layers.MaxPooling2D((2, 2), padding='same')(x)\n",
        "x = layers.Conv2D(32, (3, 3), activation='relu', padding='same')(x)\n",
        "encoded = layers.MaxPooling2D((2, 2), padding='same')(x)"
      ],
      "metadata": {
        "id": "eBu36EwHB9Iv"
      },
      "execution_count": 82,
      "outputs": []
    },
    {
      "cell_type": "markdown",
      "source": [
        "### Decoder"
      ],
      "metadata": {
        "id": "vsp46o2FCOQK"
      }
    },
    {
      "cell_type": "code",
      "source": [
        "# Capa convolucional con 32 filtros de tamaño 3x3 seguida de una función de activación relu y aplicando padding\n",
        "x = layers.Conv2D(32, (3, 3), activation='relu', padding='same')(encoded)\n",
        " # Capa de upsampling con filtro de tamaño 2x2 y aplicando padding\n",
        "x = layers.UpSampling2D((2, 2))(x)\n",
        "x = layers.Conv2D(32, (3, 3), activation='relu', padding='same')(x)\n",
        "x = layers.UpSampling2D((2, 2))(x)\n",
        "decoded = layers.Conv2D(1, (3, 3), activation='sigmoid', padding='same')(x)"
      ],
      "metadata": {
        "id": "qc-LkGARCMOJ"
      },
      "execution_count": 83,
      "outputs": []
    },
    {
      "cell_type": "code",
      "source": [
        "autoencoder = keras.Model(input_img, decoded)\n",
        "autoencoder.compile(optimizer='adam', loss='binary_crossentropy')"
      ],
      "metadata": {
        "id": "djFJ_7WLCQRo"
      },
      "execution_count": 84,
      "outputs": []
    },
    {
      "cell_type": "code",
      "source": [
        "autoencoder.fit(img, img,\n",
        "                epochs=50,\n",
        "                batch_size=128)"
      ],
      "metadata": {
        "id": "iVHNXdFUCR7z",
        "outputId": "14df438a-2489-498e-f71d-e9bfb1223618",
        "colab": {
          "base_uri": "https://localhost:8080/",
          "height": 657
        }
      },
      "execution_count": 90,
      "outputs": [
        {
          "output_type": "stream",
          "name": "stdout",
          "text": [
            "Epoch 1/50\n"
          ]
        },
        {
          "output_type": "error",
          "ename": "ValueError",
          "evalue": "ignored",
          "traceback": [
            "\u001b[0;31m---------------------------------------------------------------------------\u001b[0m",
            "\u001b[0;31mValueError\u001b[0m                                Traceback (most recent call last)",
            "\u001b[0;32m<ipython-input-90-8aca55222dd9>\u001b[0m in \u001b[0;36m<module>\u001b[0;34m()\u001b[0m\n\u001b[1;32m      1\u001b[0m autoencoder.fit(img, img,\n\u001b[1;32m      2\u001b[0m                 \u001b[0mepochs\u001b[0m\u001b[0;34m=\u001b[0m\u001b[0;36m50\u001b[0m\u001b[0;34m,\u001b[0m\u001b[0;34m\u001b[0m\u001b[0;34m\u001b[0m\u001b[0m\n\u001b[0;32m----> 3\u001b[0;31m                 batch_size=128)\n\u001b[0m",
            "\u001b[0;32m/usr/local/lib/python3.7/dist-packages/keras/utils/traceback_utils.py\u001b[0m in \u001b[0;36merror_handler\u001b[0;34m(*args, **kwargs)\u001b[0m\n\u001b[1;32m     65\u001b[0m     \u001b[0;32mexcept\u001b[0m \u001b[0mException\u001b[0m \u001b[0;32mas\u001b[0m \u001b[0me\u001b[0m\u001b[0;34m:\u001b[0m  \u001b[0;31m# pylint: disable=broad-except\u001b[0m\u001b[0;34m\u001b[0m\u001b[0;34m\u001b[0m\u001b[0m\n\u001b[1;32m     66\u001b[0m       \u001b[0mfiltered_tb\u001b[0m \u001b[0;34m=\u001b[0m \u001b[0m_process_traceback_frames\u001b[0m\u001b[0;34m(\u001b[0m\u001b[0me\u001b[0m\u001b[0;34m.\u001b[0m\u001b[0m__traceback__\u001b[0m\u001b[0;34m)\u001b[0m\u001b[0;34m\u001b[0m\u001b[0;34m\u001b[0m\u001b[0m\n\u001b[0;32m---> 67\u001b[0;31m       \u001b[0;32mraise\u001b[0m \u001b[0me\u001b[0m\u001b[0;34m.\u001b[0m\u001b[0mwith_traceback\u001b[0m\u001b[0;34m(\u001b[0m\u001b[0mfiltered_tb\u001b[0m\u001b[0;34m)\u001b[0m \u001b[0;32mfrom\u001b[0m \u001b[0;32mNone\u001b[0m\u001b[0;34m\u001b[0m\u001b[0;34m\u001b[0m\u001b[0m\n\u001b[0m\u001b[1;32m     68\u001b[0m     \u001b[0;32mfinally\u001b[0m\u001b[0;34m:\u001b[0m\u001b[0;34m\u001b[0m\u001b[0;34m\u001b[0m\u001b[0m\n\u001b[1;32m     69\u001b[0m       \u001b[0;32mdel\u001b[0m \u001b[0mfiltered_tb\u001b[0m\u001b[0;34m\u001b[0m\u001b[0;34m\u001b[0m\u001b[0m\n",
            "\u001b[0;32m/usr/local/lib/python3.7/dist-packages/tensorflow/python/framework/func_graph.py\u001b[0m in \u001b[0;36mautograph_handler\u001b[0;34m(*args, **kwargs)\u001b[0m\n\u001b[1;32m   1145\u001b[0m           \u001b[0;32mexcept\u001b[0m \u001b[0mException\u001b[0m \u001b[0;32mas\u001b[0m \u001b[0me\u001b[0m\u001b[0;34m:\u001b[0m  \u001b[0;31m# pylint:disable=broad-except\u001b[0m\u001b[0;34m\u001b[0m\u001b[0;34m\u001b[0m\u001b[0m\n\u001b[1;32m   1146\u001b[0m             \u001b[0;32mif\u001b[0m \u001b[0mhasattr\u001b[0m\u001b[0;34m(\u001b[0m\u001b[0me\u001b[0m\u001b[0;34m,\u001b[0m \u001b[0;34m\"ag_error_metadata\"\u001b[0m\u001b[0;34m)\u001b[0m\u001b[0;34m:\u001b[0m\u001b[0;34m\u001b[0m\u001b[0;34m\u001b[0m\u001b[0m\n\u001b[0;32m-> 1147\u001b[0;31m               \u001b[0;32mraise\u001b[0m \u001b[0me\u001b[0m\u001b[0;34m.\u001b[0m\u001b[0mag_error_metadata\u001b[0m\u001b[0;34m.\u001b[0m\u001b[0mto_exception\u001b[0m\u001b[0;34m(\u001b[0m\u001b[0me\u001b[0m\u001b[0;34m)\u001b[0m\u001b[0;34m\u001b[0m\u001b[0;34m\u001b[0m\u001b[0m\n\u001b[0m\u001b[1;32m   1148\u001b[0m             \u001b[0;32melse\u001b[0m\u001b[0;34m:\u001b[0m\u001b[0;34m\u001b[0m\u001b[0;34m\u001b[0m\u001b[0m\n\u001b[1;32m   1149\u001b[0m               \u001b[0;32mraise\u001b[0m\u001b[0;34m\u001b[0m\u001b[0;34m\u001b[0m\u001b[0m\n",
            "\u001b[0;31mValueError\u001b[0m: in user code:\n\n    File \"/usr/local/lib/python3.7/dist-packages/keras/engine/training.py\", line 1021, in train_function  *\n        return step_function(self, iterator)\n    File \"/usr/local/lib/python3.7/dist-packages/keras/engine/training.py\", line 1010, in step_function  **\n        outputs = model.distribute_strategy.run(run_step, args=(data,))\n    File \"/usr/local/lib/python3.7/dist-packages/keras/engine/training.py\", line 1000, in run_step  **\n        outputs = model.train_step(data)\n    File \"/usr/local/lib/python3.7/dist-packages/keras/engine/training.py\", line 859, in train_step\n        y_pred = self(x, training=True)\n    File \"/usr/local/lib/python3.7/dist-packages/keras/utils/traceback_utils.py\", line 67, in error_handler\n        raise e.with_traceback(filtered_tb) from None\n    File \"/usr/local/lib/python3.7/dist-packages/keras/engine/input_spec.py\", line 264, in assert_input_compatibility\n        raise ValueError(f'Input {input_index} of layer \"{layer_name}\" is '\n\n    ValueError: Input 0 of layer \"model\" is incompatible with the layer: expected shape=(None, 64, 64, 3), found shape=(None, 64, 3)\n"
          ]
        }
      ]
    },
    {
      "cell_type": "code",
      "source": [
        ""
      ],
      "metadata": {
        "id": "GOrLTKvrDpLb"
      },
      "execution_count": null,
      "outputs": []
    }
  ]
}