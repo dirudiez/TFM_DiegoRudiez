{
  "nbformat": 4,
  "nbformat_minor": 0,
  "metadata": {
    "colab": {
      "name": "ProcesarImagenes.ipynb",
      "provenance": [],
      "authorship_tag": "ABX9TyP8DSdMMgK73Z4DnHSg0KjR",
      "include_colab_link": true
    },
    "kernelspec": {
      "name": "python3",
      "display_name": "Python 3"
    },
    "language_info": {
      "name": "python"
    }
  },
  "cells": [
    {
      "cell_type": "markdown",
      "metadata": {
        "id": "view-in-github",
        "colab_type": "text"
      },
      "source": [
        "<a href=\"https://colab.research.google.com/github/dirudiez/TFM_DiegoRudiez/blob/main/ProcesarImagenes.ipynb\" target=\"_parent\"><img src=\"https://colab.research.google.com/assets/colab-badge.svg\" alt=\"Open In Colab\"/></a>"
      ]
    },
    {
      "cell_type": "markdown",
      "source": [
        "Ahora podemos trabajar desde colab.\n",
        "\n",
        "Para realizar este prepocesado se ha seguido el siguiente tutorial de Kaggle\n",
        "\n",
        "https://www.kaggle.com/code/ratthachat/aptos-eye-preprocessing-in-diabetic-retinopathy/notebook"
      ],
      "metadata": {
        "id": "5hOHMC0ryc4q"
      }
    },
    {
      "cell_type": "code",
      "source": [
        "import os, sys\n",
        "import numpy as np\n",
        "import pandas as pd\n",
        "import matplotlib.pyplot as plt\n",
        "import skimage.io\n",
        "from skimage.transform import resize\n",
        "from imgaug import augmenters as iaa\n",
        "from tqdm import tqdm\n",
        "import PIL\n",
        "from PIL import Image, ImageOps\n",
        "import cv2\n",
        "from sklearn.utils import class_weight, shuffle\n",
        "from keras.losses import binary_crossentropy\n",
        "# from keras.applications.resnet50 import preprocess_input\n",
        "import keras.backend as K\n",
        "import tensorflow as tf\n",
        "from sklearn.metrics import f1_score, fbeta_score\n",
        "# from keras.utils import Sequence\n",
        "# from keras.utils import to_categorical\n",
        "from sklearn.model_selection import train_test_split\n",
        "\n",
        "WORKERS = 2\n",
        "CHANNEL = 3\n",
        "\n",
        "import warnings\n",
        "warnings.filterwarnings(\"ignore\")\n",
        "IMG_SIZE = 512\n",
        "NUM_CLASSES = 5\n",
        "SEED = 77\n",
        "TRAIN_NUM = 1000 # use 1000 when you just want to explore new idea, use -1 for full train"
      ],
      "metadata": {
        "id": "Yjc96hyLzk-b"
      },
      "execution_count": 5,
      "outputs": []
    },
    {
      "cell_type": "code",
      "execution_count": null,
      "metadata": {
        "id": "d46YONSLx9EU"
      },
      "outputs": [],
      "source": [
        ""
      ]
    }
  ]
}