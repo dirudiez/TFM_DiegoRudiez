{
  "cells": [
    {
      "cell_type": "code",
      "execution_count": 2,
      "id": "d884f96a",
      "metadata": {
        "id": "d884f96a"
      },
      "outputs": [],
      "source": [
        "import os\n",
        "import pandas as pd\n",
        "\n",
        "pathTrain='Training_Set_Pre'\n",
        "pathTest='Test_Set'\n",
        "pathVal='Evaluation_Set'"
      ]
    },
    {
      "cell_type": "code",
      "source": [
        "!wget https://www.dropbox.com/s/o1eaoae59qgdo4i/Training_Set_Pre.zip?dl=0 -O train.zip\n",
        "!wget https://www.dropbox.com/s/5od5cac9xhxlcwu/Test_Set_Pre.zip?dl=0 -O test.zip\n",
        "!wget https://www.dropbox.com/s/gjz445xm4oddfus/Evaluation_Set_Pre.zip?dl=0 -O val.zip"
      ],
      "metadata": {
        "id": "DXdMAP0lx3CI",
        "outputId": "e15ced85-5da9-46df-fb39-5ea47856ae21",
        "colab": {
          "base_uri": "https://localhost:8080/"
        }
      },
      "id": "DXdMAP0lx3CI",
      "execution_count": 2,
      "outputs": [
        {
          "output_type": "stream",
          "name": "stdout",
          "text": [
            "--2022-06-07 15:43:53--  https://www.dropbox.com/s/o1eaoae59qgdo4i/Training_Set_Pre.zip?dl=0\n",
            "Resolving www.dropbox.com (www.dropbox.com)... 162.125.2.18, 2620:100:6017:18::a27d:212\n",
            "Connecting to www.dropbox.com (www.dropbox.com)|162.125.2.18|:443... connected.\n",
            "HTTP request sent, awaiting response... 301 Moved Permanently\n",
            "Location: /s/raw/o1eaoae59qgdo4i/Training_Set_Pre.zip [following]\n",
            "--2022-06-07 15:43:54--  https://www.dropbox.com/s/raw/o1eaoae59qgdo4i/Training_Set_Pre.zip\n",
            "Reusing existing connection to www.dropbox.com:443.\n",
            "HTTP request sent, awaiting response... 302 Found\n",
            "Location: https://ucaae8ab06b9a143ae1dd7a325f1.dl.dropboxusercontent.com/cd/0/inline/BmzfDp9lfYsD741xaAvP6tB08bCDuYl8A863cZO5Th7QRH_R5Nzw_DXdxoNqbYAWDNEsw1C9-dX0CDXlD9GgmVflVC6dbfyRDRtcMRitGdtd1ZK93r-yXmTH_e_euzHO4JLCITrltDf3Oi5EQtx1LBuYzXSVVF5t3bESujsrcFSJsA/file# [following]\n",
            "--2022-06-07 15:43:54--  https://ucaae8ab06b9a143ae1dd7a325f1.dl.dropboxusercontent.com/cd/0/inline/BmzfDp9lfYsD741xaAvP6tB08bCDuYl8A863cZO5Th7QRH_R5Nzw_DXdxoNqbYAWDNEsw1C9-dX0CDXlD9GgmVflVC6dbfyRDRtcMRitGdtd1ZK93r-yXmTH_e_euzHO4JLCITrltDf3Oi5EQtx1LBuYzXSVVF5t3bESujsrcFSJsA/file\n",
            "Resolving ucaae8ab06b9a143ae1dd7a325f1.dl.dropboxusercontent.com (ucaae8ab06b9a143ae1dd7a325f1.dl.dropboxusercontent.com)... 162.125.2.15, 2620:100:6017:15::a27d:20f\n",
            "Connecting to ucaae8ab06b9a143ae1dd7a325f1.dl.dropboxusercontent.com (ucaae8ab06b9a143ae1dd7a325f1.dl.dropboxusercontent.com)|162.125.2.15|:443... connected.\n",
            "HTTP request sent, awaiting response... 302 Found\n",
            "Location: /cd/0/inline2/BmwCwsjjlSa8ed19cBrRWp12Z9gLz-zXQl-E-ZmcyquV84Bf7u2YHRAlwmLz748LkBhYWe0eaTg_rMpAkgW0zOphC1Ks5g7k8thsTO7eXs4GPJEAKamuxJsIsLPd3z28HL7XVwpLsQwsIuVO__EzukE7N4Ws44MuthTKcdH1d5YQC3Cxwj2pqP2k04R_wyU_IfJmDiNcLbsSCSIHawR8iN1mM_63wroOIy9xMjxzS8ekgTvj7vFfDOHO1UKDO8IANjST9AxoZxYHnnEPSRRv9otg2W08CB3Dh-eYQPwxXL0pinWdqQH71Ol1x_3FfMQ2H9tXySPGLmw0ydVq3pQiPvUSU8AQW2clPk0F7B0QSZNWNjWmZY-8XhCs0Avk-1lAbVB7Is_pjS5zSMEG79RXIQT12ATVJM0ob__3PF4rfw5ONw/file [following]\n",
            "--2022-06-07 15:43:54--  https://ucaae8ab06b9a143ae1dd7a325f1.dl.dropboxusercontent.com/cd/0/inline2/BmwCwsjjlSa8ed19cBrRWp12Z9gLz-zXQl-E-ZmcyquV84Bf7u2YHRAlwmLz748LkBhYWe0eaTg_rMpAkgW0zOphC1Ks5g7k8thsTO7eXs4GPJEAKamuxJsIsLPd3z28HL7XVwpLsQwsIuVO__EzukE7N4Ws44MuthTKcdH1d5YQC3Cxwj2pqP2k04R_wyU_IfJmDiNcLbsSCSIHawR8iN1mM_63wroOIy9xMjxzS8ekgTvj7vFfDOHO1UKDO8IANjST9AxoZxYHnnEPSRRv9otg2W08CB3Dh-eYQPwxXL0pinWdqQH71Ol1x_3FfMQ2H9tXySPGLmw0ydVq3pQiPvUSU8AQW2clPk0F7B0QSZNWNjWmZY-8XhCs0Avk-1lAbVB7Is_pjS5zSMEG79RXIQT12ATVJM0ob__3PF4rfw5ONw/file\n",
            "Reusing existing connection to ucaae8ab06b9a143ae1dd7a325f1.dl.dropboxusercontent.com:443.\n",
            "HTTP request sent, awaiting response... 200 OK\n",
            "Length: 138777773 (132M) [application/zip]\n",
            "Saving to: ‘train.zip’\n",
            "\n",
            "train.zip           100%[===================>] 132.35M  76.5MB/s    in 1.7s    \n",
            "\n",
            "2022-06-07 15:43:56 (76.5 MB/s) - ‘train.zip’ saved [138777773/138777773]\n",
            "\n",
            "--2022-06-07 15:43:57--  https://www.dropbox.com/s/5od5cac9xhxlcwu/Test_Set_Pre.zip?dl=0\n",
            "Resolving www.dropbox.com (www.dropbox.com)... 162.125.2.18, 2620:100:6017:18::a27d:212\n",
            "Connecting to www.dropbox.com (www.dropbox.com)|162.125.2.18|:443... connected.\n",
            "HTTP request sent, awaiting response... 301 Moved Permanently\n",
            "Location: /s/raw/5od5cac9xhxlcwu/Test_Set_Pre.zip [following]\n",
            "--2022-06-07 15:43:57--  https://www.dropbox.com/s/raw/5od5cac9xhxlcwu/Test_Set_Pre.zip\n",
            "Reusing existing connection to www.dropbox.com:443.\n",
            "HTTP request sent, awaiting response... 302 Found\n",
            "Location: https://uc9537b117376b9d18d90df9e9ef.dl.dropboxusercontent.com/cd/0/inline/BmwTEw0Nh3sceiFpGs0cKGq2nB-UNLdi81CcR5THQw8BOEu9c4fAbSh0NOwcS8HLfuxg7MTFgPssqmI8MIQrAk4TerRI5Rj48doCpwZdFNrJYur9FdFSb4AkzNLMFHHt5atAH4j0uA12PatS9ZHLGUcSE085-zJc6EpCQZiB_Kyzhw/file# [following]\n",
            "--2022-06-07 15:43:57--  https://uc9537b117376b9d18d90df9e9ef.dl.dropboxusercontent.com/cd/0/inline/BmwTEw0Nh3sceiFpGs0cKGq2nB-UNLdi81CcR5THQw8BOEu9c4fAbSh0NOwcS8HLfuxg7MTFgPssqmI8MIQrAk4TerRI5Rj48doCpwZdFNrJYur9FdFSb4AkzNLMFHHt5atAH4j0uA12PatS9ZHLGUcSE085-zJc6EpCQZiB_Kyzhw/file\n",
            "Resolving uc9537b117376b9d18d90df9e9ef.dl.dropboxusercontent.com (uc9537b117376b9d18d90df9e9ef.dl.dropboxusercontent.com)... 162.125.2.15, 2620:100:6017:15::a27d:20f\n",
            "Connecting to uc9537b117376b9d18d90df9e9ef.dl.dropboxusercontent.com (uc9537b117376b9d18d90df9e9ef.dl.dropboxusercontent.com)|162.125.2.15|:443... connected.\n",
            "HTTP request sent, awaiting response... 302 Found\n",
            "Location: /cd/0/inline2/BmxcG5zFEsRz-yFbFYYnN3rFugjpVA3bwZCivCUIto_tHOhZ72U8v07mLWfwnkM6HHufVoL4LfuQ_vTFDTtR-G6bL1lVu5KByfB8X39Sg6vJqGZonV9URios40YiOFKzyZMsl2m4_yhzi2Unm1tc-oxNQBeNtGco9ob2R_5EfbEPRMQn4-_VekjgtTNF0N5h_VprgjazpqDPZWs8cxt27X5jMe0iV-3Z1_IfSQb3aOGlWIHyzN3-GK-7AuKh3zp1NLg312DJ4WI-vhyvNYdpLHUYgQYfG_RD2UxSrLy5BJHOCFRNKi3mlNiEYYKsbUKrSnPQVlvfs4esO1OPZ6AsaSsezuMKG736pSCdgO2td3hhfDt4lT5pbLMmyM9EIL9Q8JPTAUGmfcAMguGbk_3hCIQXiIm2jQ-TW8jkqCCXys5eww/file [following]\n",
            "--2022-06-07 15:43:58--  https://uc9537b117376b9d18d90df9e9ef.dl.dropboxusercontent.com/cd/0/inline2/BmxcG5zFEsRz-yFbFYYnN3rFugjpVA3bwZCivCUIto_tHOhZ72U8v07mLWfwnkM6HHufVoL4LfuQ_vTFDTtR-G6bL1lVu5KByfB8X39Sg6vJqGZonV9URios40YiOFKzyZMsl2m4_yhzi2Unm1tc-oxNQBeNtGco9ob2R_5EfbEPRMQn4-_VekjgtTNF0N5h_VprgjazpqDPZWs8cxt27X5jMe0iV-3Z1_IfSQb3aOGlWIHyzN3-GK-7AuKh3zp1NLg312DJ4WI-vhyvNYdpLHUYgQYfG_RD2UxSrLy5BJHOCFRNKi3mlNiEYYKsbUKrSnPQVlvfs4esO1OPZ6AsaSsezuMKG736pSCdgO2td3hhfDt4lT5pbLMmyM9EIL9Q8JPTAUGmfcAMguGbk_3hCIQXiIm2jQ-TW8jkqCCXys5eww/file\n",
            "Reusing existing connection to uc9537b117376b9d18d90df9e9ef.dl.dropboxusercontent.com:443.\n",
            "HTTP request sent, awaiting response... 200 OK\n",
            "Length: 47874561 (46M) [application/zip]\n",
            "Saving to: ‘test.zip’\n",
            "\n",
            "test.zip            100%[===================>]  45.66M  53.1MB/s    in 0.9s    \n",
            "\n",
            "2022-06-07 15:43:59 (53.1 MB/s) - ‘test.zip’ saved [47874561/47874561]\n",
            "\n",
            "--2022-06-07 15:43:59--  https://www.dropbox.com/s/gjz445xm4oddfus/Evaluation_Set_Pre.zip?dl=0\n",
            "Resolving www.dropbox.com (www.dropbox.com)... 162.125.2.18, 2620:100:6017:18::a27d:212\n",
            "Connecting to www.dropbox.com (www.dropbox.com)|162.125.2.18|:443... connected.\n",
            "HTTP request sent, awaiting response... 301 Moved Permanently\n",
            "Location: /s/raw/gjz445xm4oddfus/Evaluation_Set_Pre.zip [following]\n",
            "--2022-06-07 15:43:59--  https://www.dropbox.com/s/raw/gjz445xm4oddfus/Evaluation_Set_Pre.zip\n",
            "Reusing existing connection to www.dropbox.com:443.\n",
            "HTTP request sent, awaiting response... 302 Found\n",
            "Location: https://uc319515a96ebf30f35aa9e4d629.dl.dropboxusercontent.com/cd/0/inline/BmwaEofAeBH4caF9VlqheU5oUXYCv4ntXMeO4wIYDTfakTf0LUYiDNXFdj9o-1DJtVFQMOrBg7uTnZExLFz36RrMNhsm_DkjkwrJIYkS9fiwE5lpQmNkUIyl3bMFiNYtIDeFT8J_fL4VgAN5T70EU3fB-ksWIjDmCHV7gBgcwZn3NA/file# [following]\n",
            "--2022-06-07 15:44:00--  https://uc319515a96ebf30f35aa9e4d629.dl.dropboxusercontent.com/cd/0/inline/BmwaEofAeBH4caF9VlqheU5oUXYCv4ntXMeO4wIYDTfakTf0LUYiDNXFdj9o-1DJtVFQMOrBg7uTnZExLFz36RrMNhsm_DkjkwrJIYkS9fiwE5lpQmNkUIyl3bMFiNYtIDeFT8J_fL4VgAN5T70EU3fB-ksWIjDmCHV7gBgcwZn3NA/file\n",
            "Resolving uc319515a96ebf30f35aa9e4d629.dl.dropboxusercontent.com (uc319515a96ebf30f35aa9e4d629.dl.dropboxusercontent.com)... 162.125.3.15, 2620:100:6017:15::a27d:20f\n",
            "Connecting to uc319515a96ebf30f35aa9e4d629.dl.dropboxusercontent.com (uc319515a96ebf30f35aa9e4d629.dl.dropboxusercontent.com)|162.125.3.15|:443... connected.\n",
            "HTTP request sent, awaiting response... 302 Found\n",
            "Location: /cd/0/inline2/BmxgAo8i54bPXQ24uiegSKQlNJxIxg2E7jmk5kZjTucGkP49HfEXcUhmXLWfLR3lGJXlMjjpsEh_ezc4Wwxx5h5bsIF82qGAmCrJrQbIDD3SgfDhPIxVh0VbxFJNmEqScbMKkbEFCWfifiFCvieatkariDHjkJGa8AB1uEOulvwhgxIz3Ye_29CKDAy3A_gouqWubWmztW5v4DB2uanBRIYPp5l3FOGz9_LPeFhwtH9dSK9zUrc4IDDFbRVzYPSviWf6DKMRdySffDQX-Wen5w8alR3omWUycDCkQZhFBAVizISlESyicLo7_tjpoD8xcoN2kkhsEtxoNapMdNESbvdAf01xmg5msmluq9pC88WKivlLtIIXYOYDqqx16y8Yatcd7WaIfT9RdB0yspW4gTX5VI7rZvcJx5wI0yN1zEOZSQ/file [following]\n",
            "--2022-06-07 15:44:00--  https://uc319515a96ebf30f35aa9e4d629.dl.dropboxusercontent.com/cd/0/inline2/BmxgAo8i54bPXQ24uiegSKQlNJxIxg2E7jmk5kZjTucGkP49HfEXcUhmXLWfLR3lGJXlMjjpsEh_ezc4Wwxx5h5bsIF82qGAmCrJrQbIDD3SgfDhPIxVh0VbxFJNmEqScbMKkbEFCWfifiFCvieatkariDHjkJGa8AB1uEOulvwhgxIz3Ye_29CKDAy3A_gouqWubWmztW5v4DB2uanBRIYPp5l3FOGz9_LPeFhwtH9dSK9zUrc4IDDFbRVzYPSviWf6DKMRdySffDQX-Wen5w8alR3omWUycDCkQZhFBAVizISlESyicLo7_tjpoD8xcoN2kkhsEtxoNapMdNESbvdAf01xmg5msmluq9pC88WKivlLtIIXYOYDqqx16y8Yatcd7WaIfT9RdB0yspW4gTX5VI7rZvcJx5wI0yN1zEOZSQ/file\n",
            "Reusing existing connection to uc319515a96ebf30f35aa9e4d629.dl.dropboxusercontent.com:443.\n",
            "HTTP request sent, awaiting response... 200 OK\n",
            "Length: 47378914 (45M) [application/zip]\n",
            "Saving to: ‘val.zip’\n",
            "\n",
            "val.zip             100%[===================>]  45.18M  38.2MB/s    in 1.2s    \n",
            "\n",
            "2022-06-07 15:44:02 (38.2 MB/s) - ‘val.zip’ saved [47378914/47378914]\n",
            "\n"
          ]
        }
      ]
    },
    {
      "cell_type": "code",
      "source": [
        "# !rm -rvf Training_Set_Pre\n",
        "!unzip -qq train.zip #-qq no verbose\n",
        "!unzip -qq test.zip\n",
        "!unzip -qq val.zip"
      ],
      "metadata": {
        "id": "EM_o5J0Tx50H"
      },
      "id": "EM_o5J0Tx50H",
      "execution_count": 3,
      "outputs": []
    },
    {
      "cell_type": "code",
      "execution_count": 3,
      "id": "4836b9ff",
      "metadata": {
        "id": "4836b9ff"
      },
      "outputs": [],
      "source": [
        "dirsTrain = os.listdir( pathTrain )"
      ]
    },
    {
      "cell_type": "code",
      "execution_count": 4,
      "id": "db953b40",
      "metadata": {
        "id": "db953b40",
        "outputId": "436b9476-89f6-47dd-e95a-342fa352d48d",
        "colab": {
          "base_uri": "https://localhost:8080/"
        }
      },
      "outputs": [
        {
          "output_type": "execute_result",
          "data": {
            "text/plain": [
              "['Training', 'train.csv']"
            ]
          },
          "metadata": {},
          "execution_count": 4
        }
      ],
      "source": [
        "dirsTrain"
      ]
    },
    {
      "cell_type": "code",
      "execution_count": 5,
      "id": "408704f9",
      "metadata": {
        "id": "408704f9"
      },
      "outputs": [],
      "source": [
        "df_train = pd.read_csv(pathTrain + '/train.csv')\n",
        "# df_test = pd.read_csv(pathTest + '/RFMiD_Testing_Labels.csv')\n",
        "# df_val = pd.read_csv(pathVal + '/RFMiD_Validation_Labels.csv')"
      ]
    },
    {
      "cell_type": "code",
      "execution_count": 6,
      "id": "ff8626c8",
      "metadata": {
        "id": "ff8626c8",
        "outputId": "335dba42-fd92-4e4c-833b-a9e21fad59f0",
        "colab": {
          "base_uri": "https://localhost:8080/",
          "height": 424
        }
      },
      "outputs": [
        {
          "output_type": "execute_result",
          "data": {
            "text/plain": [
              "        ID  Disease_Risk  DR  ARMD  MH  DN  MYA  BRVO  TSLN  ERM  ...  AION  \\\n",
              "0        1             1   1     0   0   0    0     0     0    0  ...     0   \n",
              "1        2             1   1     0   0   0    0     0     0    0  ...     0   \n",
              "2        3             1   1     0   0   0    0     0     0    0  ...     0   \n",
              "3        4             1   0     0   1   0    0     0     0    0  ...     0   \n",
              "4        5             1   1     0   0   0    0     0     0    0  ...     0   \n",
              "...    ...           ...  ..   ...  ..  ..  ...   ...   ...  ...  ...   ...   \n",
              "1915  1916             1   0     0   0   0    0     0     0    0  ...     0   \n",
              "1916  1917             1   1     0   0   0    0     0     0    0  ...     0   \n",
              "1917  1918             0   0     0   0   0    0     0     0    0  ...     0   \n",
              "1918  1919             0   0     0   0   0    0     0     0    0  ...     0   \n",
              "1919  1920             0   0     0   0   0    0     0     0    0  ...     0   \n",
              "\n",
              "      PT  RT  RS  CRS  EDN  RPEC  MHL  RP  OTHER  \n",
              "0      0   0   0    0    0     0    0   0      0  \n",
              "1      0   0   0    0    0     0    0   0      0  \n",
              "2      0   0   0    0    0     0    0   0      0  \n",
              "3      0   0   0    0    0     0    0   0      0  \n",
              "4      0   0   0    0    0     0    0   0      0  \n",
              "...   ..  ..  ..  ...  ...   ...  ...  ..    ...  \n",
              "1915   0   0   0    0    0     0    0   0      0  \n",
              "1916   0   0   0    0    0     0    0   0      0  \n",
              "1917   0   0   0    0    0     0    0   0      0  \n",
              "1918   0   0   0    0    0     0    0   0      0  \n",
              "1919   0   0   0    0    0     0    0   0      0  \n",
              "\n",
              "[1920 rows x 30 columns]"
            ],
            "text/html": [
              "\n",
              "  <div id=\"df-86137378-c00e-4451-9ff0-c72691a65a4a\">\n",
              "    <div class=\"colab-df-container\">\n",
              "      <div>\n",
              "<style scoped>\n",
              "    .dataframe tbody tr th:only-of-type {\n",
              "        vertical-align: middle;\n",
              "    }\n",
              "\n",
              "    .dataframe tbody tr th {\n",
              "        vertical-align: top;\n",
              "    }\n",
              "\n",
              "    .dataframe thead th {\n",
              "        text-align: right;\n",
              "    }\n",
              "</style>\n",
              "<table border=\"1\" class=\"dataframe\">\n",
              "  <thead>\n",
              "    <tr style=\"text-align: right;\">\n",
              "      <th></th>\n",
              "      <th>ID</th>\n",
              "      <th>Disease_Risk</th>\n",
              "      <th>DR</th>\n",
              "      <th>ARMD</th>\n",
              "      <th>MH</th>\n",
              "      <th>DN</th>\n",
              "      <th>MYA</th>\n",
              "      <th>BRVO</th>\n",
              "      <th>TSLN</th>\n",
              "      <th>ERM</th>\n",
              "      <th>...</th>\n",
              "      <th>AION</th>\n",
              "      <th>PT</th>\n",
              "      <th>RT</th>\n",
              "      <th>RS</th>\n",
              "      <th>CRS</th>\n",
              "      <th>EDN</th>\n",
              "      <th>RPEC</th>\n",
              "      <th>MHL</th>\n",
              "      <th>RP</th>\n",
              "      <th>OTHER</th>\n",
              "    </tr>\n",
              "  </thead>\n",
              "  <tbody>\n",
              "    <tr>\n",
              "      <th>0</th>\n",
              "      <td>1</td>\n",
              "      <td>1</td>\n",
              "      <td>1</td>\n",
              "      <td>0</td>\n",
              "      <td>0</td>\n",
              "      <td>0</td>\n",
              "      <td>0</td>\n",
              "      <td>0</td>\n",
              "      <td>0</td>\n",
              "      <td>0</td>\n",
              "      <td>...</td>\n",
              "      <td>0</td>\n",
              "      <td>0</td>\n",
              "      <td>0</td>\n",
              "      <td>0</td>\n",
              "      <td>0</td>\n",
              "      <td>0</td>\n",
              "      <td>0</td>\n",
              "      <td>0</td>\n",
              "      <td>0</td>\n",
              "      <td>0</td>\n",
              "    </tr>\n",
              "    <tr>\n",
              "      <th>1</th>\n",
              "      <td>2</td>\n",
              "      <td>1</td>\n",
              "      <td>1</td>\n",
              "      <td>0</td>\n",
              "      <td>0</td>\n",
              "      <td>0</td>\n",
              "      <td>0</td>\n",
              "      <td>0</td>\n",
              "      <td>0</td>\n",
              "      <td>0</td>\n",
              "      <td>...</td>\n",
              "      <td>0</td>\n",
              "      <td>0</td>\n",
              "      <td>0</td>\n",
              "      <td>0</td>\n",
              "      <td>0</td>\n",
              "      <td>0</td>\n",
              "      <td>0</td>\n",
              "      <td>0</td>\n",
              "      <td>0</td>\n",
              "      <td>0</td>\n",
              "    </tr>\n",
              "    <tr>\n",
              "      <th>2</th>\n",
              "      <td>3</td>\n",
              "      <td>1</td>\n",
              "      <td>1</td>\n",
              "      <td>0</td>\n",
              "      <td>0</td>\n",
              "      <td>0</td>\n",
              "      <td>0</td>\n",
              "      <td>0</td>\n",
              "      <td>0</td>\n",
              "      <td>0</td>\n",
              "      <td>...</td>\n",
              "      <td>0</td>\n",
              "      <td>0</td>\n",
              "      <td>0</td>\n",
              "      <td>0</td>\n",
              "      <td>0</td>\n",
              "      <td>0</td>\n",
              "      <td>0</td>\n",
              "      <td>0</td>\n",
              "      <td>0</td>\n",
              "      <td>0</td>\n",
              "    </tr>\n",
              "    <tr>\n",
              "      <th>3</th>\n",
              "      <td>4</td>\n",
              "      <td>1</td>\n",
              "      <td>0</td>\n",
              "      <td>0</td>\n",
              "      <td>1</td>\n",
              "      <td>0</td>\n",
              "      <td>0</td>\n",
              "      <td>0</td>\n",
              "      <td>0</td>\n",
              "      <td>0</td>\n",
              "      <td>...</td>\n",
              "      <td>0</td>\n",
              "      <td>0</td>\n",
              "      <td>0</td>\n",
              "      <td>0</td>\n",
              "      <td>0</td>\n",
              "      <td>0</td>\n",
              "      <td>0</td>\n",
              "      <td>0</td>\n",
              "      <td>0</td>\n",
              "      <td>0</td>\n",
              "    </tr>\n",
              "    <tr>\n",
              "      <th>4</th>\n",
              "      <td>5</td>\n",
              "      <td>1</td>\n",
              "      <td>1</td>\n",
              "      <td>0</td>\n",
              "      <td>0</td>\n",
              "      <td>0</td>\n",
              "      <td>0</td>\n",
              "      <td>0</td>\n",
              "      <td>0</td>\n",
              "      <td>0</td>\n",
              "      <td>...</td>\n",
              "      <td>0</td>\n",
              "      <td>0</td>\n",
              "      <td>0</td>\n",
              "      <td>0</td>\n",
              "      <td>0</td>\n",
              "      <td>0</td>\n",
              "      <td>0</td>\n",
              "      <td>0</td>\n",
              "      <td>0</td>\n",
              "      <td>0</td>\n",
              "    </tr>\n",
              "    <tr>\n",
              "      <th>...</th>\n",
              "      <td>...</td>\n",
              "      <td>...</td>\n",
              "      <td>...</td>\n",
              "      <td>...</td>\n",
              "      <td>...</td>\n",
              "      <td>...</td>\n",
              "      <td>...</td>\n",
              "      <td>...</td>\n",
              "      <td>...</td>\n",
              "      <td>...</td>\n",
              "      <td>...</td>\n",
              "      <td>...</td>\n",
              "      <td>...</td>\n",
              "      <td>...</td>\n",
              "      <td>...</td>\n",
              "      <td>...</td>\n",
              "      <td>...</td>\n",
              "      <td>...</td>\n",
              "      <td>...</td>\n",
              "      <td>...</td>\n",
              "      <td>...</td>\n",
              "    </tr>\n",
              "    <tr>\n",
              "      <th>1915</th>\n",
              "      <td>1916</td>\n",
              "      <td>1</td>\n",
              "      <td>0</td>\n",
              "      <td>0</td>\n",
              "      <td>0</td>\n",
              "      <td>0</td>\n",
              "      <td>0</td>\n",
              "      <td>0</td>\n",
              "      <td>0</td>\n",
              "      <td>0</td>\n",
              "      <td>...</td>\n",
              "      <td>0</td>\n",
              "      <td>0</td>\n",
              "      <td>0</td>\n",
              "      <td>0</td>\n",
              "      <td>0</td>\n",
              "      <td>0</td>\n",
              "      <td>0</td>\n",
              "      <td>0</td>\n",
              "      <td>0</td>\n",
              "      <td>0</td>\n",
              "    </tr>\n",
              "    <tr>\n",
              "      <th>1916</th>\n",
              "      <td>1917</td>\n",
              "      <td>1</td>\n",
              "      <td>1</td>\n",
              "      <td>0</td>\n",
              "      <td>0</td>\n",
              "      <td>0</td>\n",
              "      <td>0</td>\n",
              "      <td>0</td>\n",
              "      <td>0</td>\n",
              "      <td>0</td>\n",
              "      <td>...</td>\n",
              "      <td>0</td>\n",
              "      <td>0</td>\n",
              "      <td>0</td>\n",
              "      <td>0</td>\n",
              "      <td>0</td>\n",
              "      <td>0</td>\n",
              "      <td>0</td>\n",
              "      <td>0</td>\n",
              "      <td>0</td>\n",
              "      <td>0</td>\n",
              "    </tr>\n",
              "    <tr>\n",
              "      <th>1917</th>\n",
              "      <td>1918</td>\n",
              "      <td>0</td>\n",
              "      <td>0</td>\n",
              "      <td>0</td>\n",
              "      <td>0</td>\n",
              "      <td>0</td>\n",
              "      <td>0</td>\n",
              "      <td>0</td>\n",
              "      <td>0</td>\n",
              "      <td>0</td>\n",
              "      <td>...</td>\n",
              "      <td>0</td>\n",
              "      <td>0</td>\n",
              "      <td>0</td>\n",
              "      <td>0</td>\n",
              "      <td>0</td>\n",
              "      <td>0</td>\n",
              "      <td>0</td>\n",
              "      <td>0</td>\n",
              "      <td>0</td>\n",
              "      <td>0</td>\n",
              "    </tr>\n",
              "    <tr>\n",
              "      <th>1918</th>\n",
              "      <td>1919</td>\n",
              "      <td>0</td>\n",
              "      <td>0</td>\n",
              "      <td>0</td>\n",
              "      <td>0</td>\n",
              "      <td>0</td>\n",
              "      <td>0</td>\n",
              "      <td>0</td>\n",
              "      <td>0</td>\n",
              "      <td>0</td>\n",
              "      <td>...</td>\n",
              "      <td>0</td>\n",
              "      <td>0</td>\n",
              "      <td>0</td>\n",
              "      <td>0</td>\n",
              "      <td>0</td>\n",
              "      <td>0</td>\n",
              "      <td>0</td>\n",
              "      <td>0</td>\n",
              "      <td>0</td>\n",
              "      <td>0</td>\n",
              "    </tr>\n",
              "    <tr>\n",
              "      <th>1919</th>\n",
              "      <td>1920</td>\n",
              "      <td>0</td>\n",
              "      <td>0</td>\n",
              "      <td>0</td>\n",
              "      <td>0</td>\n",
              "      <td>0</td>\n",
              "      <td>0</td>\n",
              "      <td>0</td>\n",
              "      <td>0</td>\n",
              "      <td>0</td>\n",
              "      <td>...</td>\n",
              "      <td>0</td>\n",
              "      <td>0</td>\n",
              "      <td>0</td>\n",
              "      <td>0</td>\n",
              "      <td>0</td>\n",
              "      <td>0</td>\n",
              "      <td>0</td>\n",
              "      <td>0</td>\n",
              "      <td>0</td>\n",
              "      <td>0</td>\n",
              "    </tr>\n",
              "  </tbody>\n",
              "</table>\n",
              "<p>1920 rows × 30 columns</p>\n",
              "</div>\n",
              "      <button class=\"colab-df-convert\" onclick=\"convertToInteractive('df-86137378-c00e-4451-9ff0-c72691a65a4a')\"\n",
              "              title=\"Convert this dataframe to an interactive table.\"\n",
              "              style=\"display:none;\">\n",
              "        \n",
              "  <svg xmlns=\"http://www.w3.org/2000/svg\" height=\"24px\"viewBox=\"0 0 24 24\"\n",
              "       width=\"24px\">\n",
              "    <path d=\"M0 0h24v24H0V0z\" fill=\"none\"/>\n",
              "    <path d=\"M18.56 5.44l.94 2.06.94-2.06 2.06-.94-2.06-.94-.94-2.06-.94 2.06-2.06.94zm-11 1L8.5 8.5l.94-2.06 2.06-.94-2.06-.94L8.5 2.5l-.94 2.06-2.06.94zm10 10l.94 2.06.94-2.06 2.06-.94-2.06-.94-.94-2.06-.94 2.06-2.06.94z\"/><path d=\"M17.41 7.96l-1.37-1.37c-.4-.4-.92-.59-1.43-.59-.52 0-1.04.2-1.43.59L10.3 9.45l-7.72 7.72c-.78.78-.78 2.05 0 2.83L4 21.41c.39.39.9.59 1.41.59.51 0 1.02-.2 1.41-.59l7.78-7.78 2.81-2.81c.8-.78.8-2.07 0-2.86zM5.41 20L4 18.59l7.72-7.72 1.47 1.35L5.41 20z\"/>\n",
              "  </svg>\n",
              "      </button>\n",
              "      \n",
              "  <style>\n",
              "    .colab-df-container {\n",
              "      display:flex;\n",
              "      flex-wrap:wrap;\n",
              "      gap: 12px;\n",
              "    }\n",
              "\n",
              "    .colab-df-convert {\n",
              "      background-color: #E8F0FE;\n",
              "      border: none;\n",
              "      border-radius: 50%;\n",
              "      cursor: pointer;\n",
              "      display: none;\n",
              "      fill: #1967D2;\n",
              "      height: 32px;\n",
              "      padding: 0 0 0 0;\n",
              "      width: 32px;\n",
              "    }\n",
              "\n",
              "    .colab-df-convert:hover {\n",
              "      background-color: #E2EBFA;\n",
              "      box-shadow: 0px 1px 2px rgba(60, 64, 67, 0.3), 0px 1px 3px 1px rgba(60, 64, 67, 0.15);\n",
              "      fill: #174EA6;\n",
              "    }\n",
              "\n",
              "    [theme=dark] .colab-df-convert {\n",
              "      background-color: #3B4455;\n",
              "      fill: #D2E3FC;\n",
              "    }\n",
              "\n",
              "    [theme=dark] .colab-df-convert:hover {\n",
              "      background-color: #434B5C;\n",
              "      box-shadow: 0px 1px 3px 1px rgba(0, 0, 0, 0.15);\n",
              "      filter: drop-shadow(0px 1px 2px rgba(0, 0, 0, 0.3));\n",
              "      fill: #FFFFFF;\n",
              "    }\n",
              "  </style>\n",
              "\n",
              "      <script>\n",
              "        const buttonEl =\n",
              "          document.querySelector('#df-86137378-c00e-4451-9ff0-c72691a65a4a button.colab-df-convert');\n",
              "        buttonEl.style.display =\n",
              "          google.colab.kernel.accessAllowed ? 'block' : 'none';\n",
              "\n",
              "        async function convertToInteractive(key) {\n",
              "          const element = document.querySelector('#df-86137378-c00e-4451-9ff0-c72691a65a4a');\n",
              "          const dataTable =\n",
              "            await google.colab.kernel.invokeFunction('convertToInteractive',\n",
              "                                                     [key], {});\n",
              "          if (!dataTable) return;\n",
              "\n",
              "          const docLinkHtml = 'Like what you see? Visit the ' +\n",
              "            '<a target=\"_blank\" href=https://colab.research.google.com/notebooks/data_table.ipynb>data table notebook</a>'\n",
              "            + ' to learn more about interactive tables.';\n",
              "          element.innerHTML = '';\n",
              "          dataTable['output_type'] = 'display_data';\n",
              "          await google.colab.output.renderOutput(dataTable, element);\n",
              "          const docLink = document.createElement('div');\n",
              "          docLink.innerHTML = docLinkHtml;\n",
              "          element.appendChild(docLink);\n",
              "        }\n",
              "      </script>\n",
              "    </div>\n",
              "  </div>\n",
              "  "
            ]
          },
          "metadata": {},
          "execution_count": 6
        }
      ],
      "source": [
        "df_train"
      ]
    },
    {
      "cell_type": "code",
      "execution_count": 7,
      "id": "e5127f3e",
      "metadata": {
        "id": "e5127f3e"
      },
      "outputs": [],
      "source": [
        "# from sklearn.utils import shuffle\n",
        "\n",
        "# x = df_train['ID']\n",
        "# y = df_train['Disease_Risk']\n",
        "\n",
        "# df_train= pd.concat([x,y], axis=1)"
      ]
    },
    {
      "cell_type": "code",
      "execution_count": 8,
      "id": "facdbe5a",
      "metadata": {
        "scrolled": false,
        "id": "facdbe5a"
      },
      "outputs": [],
      "source": [
        "# serie_train = df_train['Disease_Risk'].value_counts()\n",
        "# serie_train\n",
        "\n",
        "# serie_test = df_test['Disease_Risk'].value_counts()\n",
        "# serie_test"
      ]
    },
    {
      "cell_type": "code",
      "execution_count": 9,
      "id": "285e1865",
      "metadata": {
        "scrolled": true,
        "id": "285e1865",
        "outputId": "67c02a62-823a-4d35-8107-c4510f8acb20",
        "colab": {
          "base_uri": "https://localhost:8080/",
          "height": 336
        }
      },
      "outputs": [
        {
          "output_type": "execute_result",
          "data": {
            "text/plain": [
              "<AxesSubplot:title={'center':'Entrenamiento'}>"
            ]
          },
          "metadata": {},
          "execution_count": 9
        },
        {
          "output_type": "display_data",
          "data": {
            "text/plain": [
              "<Figure size 360x360 with 1 Axes>"
            ],
            "image/png": "[encoded data removed]"
          },
          "metadata": {}
        }
      ],
      "source": [
        "serie_train = df_train['Disease_Risk'].value_counts()\n",
        "serie_train.plot(title='Entrenamiento', ylabel='', kind='pie', figsize=(5, 5), labels=['Riesgo ' + str(serie_train[1]), \n",
        "                                                                                      'Normal ' + str(serie_train[0])], colors=['#E81919', 'green'])"
      ]
    },
    {
      "cell_type": "code",
      "execution_count": 10,
      "id": "0c939f0d",
      "metadata": {
        "scrolled": true,
        "id": "0c939f0d",
        "outputId": "b3cd435d-573e-4398-8678-b9efd2c8fc4c",
        "colab": {
          "base_uri": "https://localhost:8080/",
          "height": 200
        }
      },
      "outputs": [
        {
          "output_type": "error",
          "ename": "NameError",
          "evalue": "ignored",
          "traceback": [
            "\u001b[0;31m---------------------------------------------------------------------------\u001b[0m",
            "\u001b[0;31mNameError\u001b[0m                                 Traceback (most recent call last)",
            "\u001b[0;32m<ipython-input-10-0afc27ddf6a9>\u001b[0m in \u001b[0;36m<module>\u001b[0;34m()\u001b[0m\n\u001b[0;32m----> 1\u001b[0;31m \u001b[0mserie_test\u001b[0m \u001b[0;34m=\u001b[0m \u001b[0mdf_test\u001b[0m\u001b[0;34m[\u001b[0m\u001b[0;34m'Disease_Risk'\u001b[0m\u001b[0;34m]\u001b[0m\u001b[0;34m.\u001b[0m\u001b[0mvalue_counts\u001b[0m\u001b[0;34m(\u001b[0m\u001b[0;34m)\u001b[0m\u001b[0;34m\u001b[0m\u001b[0;34m\u001b[0m\u001b[0m\n\u001b[0m\u001b[1;32m      2\u001b[0m serie_test.plot(title='Test', ylabel='', kind='pie', figsize=(5, 5), labels=['Riesgo ' + str(serie_test[1]), \n\u001b[1;32m      3\u001b[0m                                                                                       'Normal ' + str(serie_test[0])], colors=['#E81919', 'green'])\n",
            "\u001b[0;31mNameError\u001b[0m: name 'df_test' is not defined"
          ]
        }
      ],
      "source": [
        "serie_test = df_test['Disease_Risk'].value_counts()\n",
        "serie_test.plot(title='Test', ylabel='', kind='pie', figsize=(5, 5), labels=['Riesgo ' + str(serie_test[1]), \n",
        "                                                                                      'Normal ' + str(serie_test[0])], colors=['#E81919', 'green'])"
      ]
    },
    {
      "cell_type": "code",
      "execution_count": 11,
      "id": "e5a95730",
      "metadata": {
        "scrolled": true,
        "id": "e5a95730",
        "outputId": "b6fec9b8-cc4d-4148-f732-d3a272ba061a",
        "colab": {
          "base_uri": "https://localhost:8080/",
          "height": 200
        }
      },
      "outputs": [
        {
          "output_type": "error",
          "ename": "NameError",
          "evalue": "ignored",
          "traceback": [
            "\u001b[0;31m---------------------------------------------------------------------------\u001b[0m",
            "\u001b[0;31mNameError\u001b[0m                                 Traceback (most recent call last)",
            "\u001b[0;32m<ipython-input-11-8df230166bab>\u001b[0m in \u001b[0;36m<module>\u001b[0;34m()\u001b[0m\n\u001b[0;32m----> 1\u001b[0;31m \u001b[0mserie_val\u001b[0m \u001b[0;34m=\u001b[0m \u001b[0mdf_val\u001b[0m\u001b[0;34m[\u001b[0m\u001b[0;34m'Disease_Risk'\u001b[0m\u001b[0;34m]\u001b[0m\u001b[0;34m.\u001b[0m\u001b[0mvalue_counts\u001b[0m\u001b[0;34m(\u001b[0m\u001b[0;34m)\u001b[0m\u001b[0;34m\u001b[0m\u001b[0;34m\u001b[0m\u001b[0m\n\u001b[0m\u001b[1;32m      2\u001b[0m serie_val.plot(title='Validación', ylabel='', kind='pie', figsize=(5, 5), labels=['Riesgo ' + str(serie_val[1]), \n\u001b[1;32m      3\u001b[0m                                                                                       'Normal ' + str(serie_val[0])], colors=['#E81919', 'green'])\n",
            "\u001b[0;31mNameError\u001b[0m: name 'df_val' is not defined"
          ]
        }
      ],
      "source": [
        "serie_val = df_val['Disease_Risk'].value_counts()\n",
        "serie_val.plot(title='Validación', ylabel='', kind='pie', figsize=(5, 5), labels=['Riesgo ' + str(serie_val[1]), \n",
        "                                                                                      'Normal ' + str(serie_val[0])], colors=['#E81919', 'green'])"
      ]
    },
    {
      "cell_type": "code",
      "execution_count": 12,
      "id": "1e2c20ea",
      "metadata": {
        "id": "1e2c20ea",
        "outputId": "13ef6318-782a-4b4a-df92-76a7330bd0f3",
        "colab": {
          "base_uri": "https://localhost:8080/",
          "height": 280
        }
      },
      "outputs": [
        {
          "output_type": "execute_result",
          "data": {
            "text/plain": [
              "<AxesSubplot:>"
            ]
          },
          "metadata": {},
          "execution_count": 12
        },
        {
          "output_type": "display_data",
          "data": {
            "text/plain": [
              "<Figure size 432x288 with 1 Axes>"
            ],
            "image/png": "[encoded data removed]"
          },
          "metadata": {
            "needs_background": "light"
          }
        }
      ],
      "source": [
        "df_train.DR.value_counts().sort_values().plot(kind = 'bar')"
      ]
    },
    {
      "cell_type": "code",
      "execution_count": 13,
      "id": "cf7cc311",
      "metadata": {
        "scrolled": false,
        "id": "cf7cc311"
      },
      "outputs": [],
      "source": [
        "import seaborn as sns\n",
        "import matplotlib.pyplot as plt"
      ]
    },
    {
      "cell_type": "code",
      "source": [
        "!pip install matplotlib==3.4 \n",
        "matplotlib.__version__"
      ],
      "metadata": {
        "id": "G2Pby9NI2DRV"
      },
      "id": "G2Pby9NI2DRV",
      "execution_count": null,
      "outputs": []
    },
    {
      "cell_type": "code",
      "source": [
        "import matplotlib\n",
        "matplotlib.__version__"
      ],
      "metadata": {
        "colab": {
          "base_uri": "https://localhost:8080/",
          "height": 35
        },
        "id": "pyinFvkZ2q90",
        "outputId": "01597c14-5500-4877-b6eb-2b5411a8a186"
      },
      "id": "pyinFvkZ2q90",
      "execution_count": 15,
      "outputs": [
        {
          "output_type": "execute_result",
          "data": {
            "text/plain": [
              "'3.4.0'"
            ],
            "application/vnd.google.colaboratory.intrinsic+json": {
              "type": "string"
            }
          },
          "metadata": {},
          "execution_count": 15
        }
      ]
    },
    {
      "cell_type": "code",
      "execution_count": 40,
      "id": "0012e54a",
      "metadata": {
        "id": "0012e54a",
        "outputId": "e8bf8387-1ecc-4502-9338-06b7f0a7f454",
        "colab": {
          "base_uri": "https://localhost:8080/",
          "height": 522
        }
      },
      "outputs": [
        {
          "output_type": "execute_result",
          "data": {
            "text/plain": [
              "<matplotlib.legend.Legend at 0x7fd600309250>"
            ]
          },
          "metadata": {},
          "execution_count": 40
        },
        {
          "output_type": "display_data",
          "data": {
            "text/plain": [
              "<Figure size 1584x720 with 1 Axes>"
            ],
            "image/png": "[encoded data removed]"
          },
          "metadata": {
            "needs_background": "light"
          }
        }
      ],
      "source": [
        "fig, ax = plt.subplots(figsize=(22,10))\n",
        "colors = ['green', '#E81919']\n",
        "ax = sns.set_palette(sns.color_palette(colors))\n",
        "ax = sns.countplot(ax=ax, x=\"variable\", hue=\"value\", data=pd.melt(df_train.iloc[:,1:]))\n",
        "# ax.bar_label(ax.containers[0])\n",
        "for container in ax.containers:\n",
        "    ax.bar_label(container)\n",
        "legend_labels, _= ax.get_legend_handles_labels()\n",
        "ax.legend(legend_labels, ['normal','enfermedad'], \n",
        "          bbox_to_anchor=(1,1), \n",
        "          title='Enfermedade conjunto de entrenamiento')"
      ]
    },
    {
      "cell_type": "code",
      "source": [
        "ax = sns.countplot(x=\"variable\", hue=\"value\", data=pd.melt(df_train))"
      ],
      "metadata": {
        "id": "lSJEw5vDzsN9"
      },
      "id": "lSJEw5vDzsN9",
      "execution_count": null,
      "outputs": []
    },
    {
      "cell_type": "code",
      "execution_count": null,
      "id": "1d12101b",
      "metadata": {
        "id": "1d12101b"
      },
      "outputs": [],
      "source": [
        "ax = sns.countplot(x=\"DR\", data=df_train)"
      ]
    },
    {
      "cell_type": "code",
      "execution_count": null,
      "id": "663250a3",
      "metadata": {
        "id": "663250a3",
        "outputId": "cc62c87a-6428-4bc6-9c55-581bf6ed000f"
      },
      "outputs": [
        {
          "data": {
            "text/plain": [
              "DR  ARMD\n",
              "0   0       1444\n",
              "1   0        376\n",
              "0   1        100\n",
              "dtype: int64"
            ]
          },
          "execution_count": 48,
          "metadata": {},
          "output_type": "execute_result"
        }
      ],
      "source": [
        "df_train.iloc[:,2:4].value_counts()"
      ]
    },
    {
      "cell_type": "code",
      "execution_count": null,
      "id": "22493a99",
      "metadata": {
        "id": "22493a99",
        "outputId": "ef79de6b-7b3c-42a5-aca8-fcd74aab6112"
      },
      "outputs": [
        {
          "data": {
            "text/html": [
              "<div>\n",
              "<style scoped>\n",
              "    .dataframe tbody tr th:only-of-type {\n",
              "        vertical-align: middle;\n",
              "    }\n",
              "\n",
              "    .dataframe tbody tr th {\n",
              "        vertical-align: top;\n",
              "    }\n",
              "\n",
              "    .dataframe thead th {\n",
              "        text-align: right;\n",
              "    }\n",
              "</style>\n",
              "<table border=\"1\" class=\"dataframe\">\n",
              "  <thead>\n",
              "    <tr style=\"text-align: right;\">\n",
              "      <th></th>\n",
              "      <th>DR</th>\n",
              "      <th>ARMD</th>\n",
              "      <th>MH</th>\n",
              "      <th>DN</th>\n",
              "      <th>MYA</th>\n",
              "      <th>BRVO</th>\n",
              "      <th>TSLN</th>\n",
              "      <th>ERM</th>\n",
              "      <th>LS</th>\n",
              "      <th>MS</th>\n",
              "      <th>...</th>\n",
              "      <th>AION</th>\n",
              "      <th>PT</th>\n",
              "      <th>RT</th>\n",
              "      <th>RS</th>\n",
              "      <th>CRS</th>\n",
              "      <th>EDN</th>\n",
              "      <th>RPEC</th>\n",
              "      <th>MHL</th>\n",
              "      <th>RP</th>\n",
              "      <th>OTHER</th>\n",
              "    </tr>\n",
              "  </thead>\n",
              "  <tbody>\n",
              "    <tr>\n",
              "      <th>0</th>\n",
              "      <td>1</td>\n",
              "      <td>0</td>\n",
              "      <td>0</td>\n",
              "      <td>0</td>\n",
              "      <td>0</td>\n",
              "      <td>0</td>\n",
              "      <td>0</td>\n",
              "      <td>0</td>\n",
              "      <td>0</td>\n",
              "      <td>0</td>\n",
              "      <td>...</td>\n",
              "      <td>0</td>\n",
              "      <td>0</td>\n",
              "      <td>0</td>\n",
              "      <td>0</td>\n",
              "      <td>0</td>\n",
              "      <td>0</td>\n",
              "      <td>0</td>\n",
              "      <td>0</td>\n",
              "      <td>0</td>\n",
              "      <td>0</td>\n",
              "    </tr>\n",
              "    <tr>\n",
              "      <th>1</th>\n",
              "      <td>1</td>\n",
              "      <td>0</td>\n",
              "      <td>0</td>\n",
              "      <td>0</td>\n",
              "      <td>0</td>\n",
              "      <td>0</td>\n",
              "      <td>0</td>\n",
              "      <td>0</td>\n",
              "      <td>0</td>\n",
              "      <td>0</td>\n",
              "      <td>...</td>\n",
              "      <td>0</td>\n",
              "      <td>0</td>\n",
              "      <td>0</td>\n",
              "      <td>0</td>\n",
              "      <td>0</td>\n",
              "      <td>0</td>\n",
              "      <td>0</td>\n",
              "      <td>0</td>\n",
              "      <td>0</td>\n",
              "      <td>0</td>\n",
              "    </tr>\n",
              "    <tr>\n",
              "      <th>2</th>\n",
              "      <td>1</td>\n",
              "      <td>0</td>\n",
              "      <td>0</td>\n",
              "      <td>0</td>\n",
              "      <td>0</td>\n",
              "      <td>0</td>\n",
              "      <td>0</td>\n",
              "      <td>0</td>\n",
              "      <td>0</td>\n",
              "      <td>0</td>\n",
              "      <td>...</td>\n",
              "      <td>0</td>\n",
              "      <td>0</td>\n",
              "      <td>0</td>\n",
              "      <td>0</td>\n",
              "      <td>0</td>\n",
              "      <td>0</td>\n",
              "      <td>0</td>\n",
              "      <td>0</td>\n",
              "      <td>0</td>\n",
              "      <td>0</td>\n",
              "    </tr>\n",
              "    <tr>\n",
              "      <th>3</th>\n",
              "      <td>0</td>\n",
              "      <td>0</td>\n",
              "      <td>1</td>\n",
              "      <td>0</td>\n",
              "      <td>0</td>\n",
              "      <td>0</td>\n",
              "      <td>0</td>\n",
              "      <td>0</td>\n",
              "      <td>0</td>\n",
              "      <td>0</td>\n",
              "      <td>...</td>\n",
              "      <td>0</td>\n",
              "      <td>0</td>\n",
              "      <td>0</td>\n",
              "      <td>0</td>\n",
              "      <td>0</td>\n",
              "      <td>0</td>\n",
              "      <td>0</td>\n",
              "      <td>0</td>\n",
              "      <td>0</td>\n",
              "      <td>0</td>\n",
              "    </tr>\n",
              "    <tr>\n",
              "      <th>4</th>\n",
              "      <td>1</td>\n",
              "      <td>0</td>\n",
              "      <td>0</td>\n",
              "      <td>0</td>\n",
              "      <td>0</td>\n",
              "      <td>0</td>\n",
              "      <td>0</td>\n",
              "      <td>0</td>\n",
              "      <td>1</td>\n",
              "      <td>0</td>\n",
              "      <td>...</td>\n",
              "      <td>0</td>\n",
              "      <td>0</td>\n",
              "      <td>0</td>\n",
              "      <td>0</td>\n",
              "      <td>0</td>\n",
              "      <td>0</td>\n",
              "      <td>0</td>\n",
              "      <td>0</td>\n",
              "      <td>0</td>\n",
              "      <td>0</td>\n",
              "    </tr>\n",
              "    <tr>\n",
              "      <th>...</th>\n",
              "      <td>...</td>\n",
              "      <td>...</td>\n",
              "      <td>...</td>\n",
              "      <td>...</td>\n",
              "      <td>...</td>\n",
              "      <td>...</td>\n",
              "      <td>...</td>\n",
              "      <td>...</td>\n",
              "      <td>...</td>\n",
              "      <td>...</td>\n",
              "      <td>...</td>\n",
              "      <td>...</td>\n",
              "      <td>...</td>\n",
              "      <td>...</td>\n",
              "      <td>...</td>\n",
              "      <td>...</td>\n",
              "      <td>...</td>\n",
              "      <td>...</td>\n",
              "      <td>...</td>\n",
              "      <td>...</td>\n",
              "      <td>...</td>\n",
              "    </tr>\n",
              "    <tr>\n",
              "      <th>1915</th>\n",
              "      <td>0</td>\n",
              "      <td>0</td>\n",
              "      <td>0</td>\n",
              "      <td>0</td>\n",
              "      <td>0</td>\n",
              "      <td>0</td>\n",
              "      <td>0</td>\n",
              "      <td>0</td>\n",
              "      <td>0</td>\n",
              "      <td>0</td>\n",
              "      <td>...</td>\n",
              "      <td>0</td>\n",
              "      <td>0</td>\n",
              "      <td>0</td>\n",
              "      <td>0</td>\n",
              "      <td>0</td>\n",
              "      <td>0</td>\n",
              "      <td>0</td>\n",
              "      <td>0</td>\n",
              "      <td>0</td>\n",
              "      <td>0</td>\n",
              "    </tr>\n",
              "    <tr>\n",
              "      <th>1916</th>\n",
              "      <td>1</td>\n",
              "      <td>0</td>\n",
              "      <td>0</td>\n",
              "      <td>0</td>\n",
              "      <td>0</td>\n",
              "      <td>0</td>\n",
              "      <td>0</td>\n",
              "      <td>0</td>\n",
              "      <td>1</td>\n",
              "      <td>0</td>\n",
              "      <td>...</td>\n",
              "      <td>0</td>\n",
              "      <td>0</td>\n",
              "      <td>0</td>\n",
              "      <td>0</td>\n",
              "      <td>0</td>\n",
              "      <td>0</td>\n",
              "      <td>0</td>\n",
              "      <td>0</td>\n",
              "      <td>0</td>\n",
              "      <td>0</td>\n",
              "    </tr>\n",
              "    <tr>\n",
              "      <th>1917</th>\n",
              "      <td>0</td>\n",
              "      <td>0</td>\n",
              "      <td>0</td>\n",
              "      <td>0</td>\n",
              "      <td>0</td>\n",
              "      <td>0</td>\n",
              "      <td>0</td>\n",
              "      <td>0</td>\n",
              "      <td>0</td>\n",
              "      <td>0</td>\n",
              "      <td>...</td>\n",
              "      <td>0</td>\n",
              "      <td>0</td>\n",
              "      <td>0</td>\n",
              "      <td>0</td>\n",
              "      <td>0</td>\n",
              "      <td>0</td>\n",
              "      <td>0</td>\n",
              "      <td>0</td>\n",
              "      <td>0</td>\n",
              "      <td>0</td>\n",
              "    </tr>\n",
              "    <tr>\n",
              "      <th>1918</th>\n",
              "      <td>0</td>\n",
              "      <td>0</td>\n",
              "      <td>0</td>\n",
              "      <td>0</td>\n",
              "      <td>0</td>\n",
              "      <td>0</td>\n",
              "      <td>0</td>\n",
              "      <td>0</td>\n",
              "      <td>0</td>\n",
              "      <td>0</td>\n",
              "      <td>...</td>\n",
              "      <td>0</td>\n",
              "      <td>0</td>\n",
              "      <td>0</td>\n",
              "      <td>0</td>\n",
              "      <td>0</td>\n",
              "      <td>0</td>\n",
              "      <td>0</td>\n",
              "      <td>0</td>\n",
              "      <td>0</td>\n",
              "      <td>0</td>\n",
              "    </tr>\n",
              "    <tr>\n",
              "      <th>1919</th>\n",
              "      <td>0</td>\n",
              "      <td>0</td>\n",
              "      <td>0</td>\n",
              "      <td>0</td>\n",
              "      <td>0</td>\n",
              "      <td>0</td>\n",
              "      <td>0</td>\n",
              "      <td>0</td>\n",
              "      <td>0</td>\n",
              "      <td>0</td>\n",
              "      <td>...</td>\n",
              "      <td>0</td>\n",
              "      <td>0</td>\n",
              "      <td>0</td>\n",
              "      <td>0</td>\n",
              "      <td>0</td>\n",
              "      <td>0</td>\n",
              "      <td>0</td>\n",
              "      <td>0</td>\n",
              "      <td>0</td>\n",
              "      <td>0</td>\n",
              "    </tr>\n",
              "  </tbody>\n",
              "</table>\n",
              "<p>1920 rows × 28 columns</p>\n",
              "</div>"
            ],
            "text/plain": [
              "      DR  ARMD  MH  DN  MYA  BRVO  TSLN  ERM  LS  MS  ...  AION  PT  RT  RS  \\\n",
              "0      1     0   0   0    0     0     0    0   0   0  ...     0   0   0   0   \n",
              "1      1     0   0   0    0     0     0    0   0   0  ...     0   0   0   0   \n",
              "2      1     0   0   0    0     0     0    0   0   0  ...     0   0   0   0   \n",
              "3      0     0   1   0    0     0     0    0   0   0  ...     0   0   0   0   \n",
              "4      1     0   0   0    0     0     0    0   1   0  ...     0   0   0   0   \n",
              "...   ..   ...  ..  ..  ...   ...   ...  ...  ..  ..  ...   ...  ..  ..  ..   \n",
              "1915   0     0   0   0    0     0     0    0   0   0  ...     0   0   0   0   \n",
              "1916   1     0   0   0    0     0     0    0   1   0  ...     0   0   0   0   \n",
              "1917   0     0   0   0    0     0     0    0   0   0  ...     0   0   0   0   \n",
              "1918   0     0   0   0    0     0     0    0   0   0  ...     0   0   0   0   \n",
              "1919   0     0   0   0    0     0     0    0   0   0  ...     0   0   0   0   \n",
              "\n",
              "      CRS  EDN  RPEC  MHL  RP  OTHER  \n",
              "0       0    0     0    0   0      0  \n",
              "1       0    0     0    0   0      0  \n",
              "2       0    0     0    0   0      0  \n",
              "3       0    0     0    0   0      0  \n",
              "4       0    0     0    0   0      0  \n",
              "...   ...  ...   ...  ...  ..    ...  \n",
              "1915    0    0     0    0   0      0  \n",
              "1916    0    0     0    0   0      0  \n",
              "1917    0    0     0    0   0      0  \n",
              "1918    0    0     0    0   0      0  \n",
              "1919    0    0     0    0   0      0  \n",
              "\n",
              "[1920 rows x 28 columns]"
            ]
          },
          "execution_count": 40,
          "metadata": {},
          "output_type": "execute_result"
        }
      ],
      "source": [
        "df_train.iloc[:,2:]"
      ]
    },
    {
      "cell_type": "code",
      "execution_count": null,
      "id": "00eda4af",
      "metadata": {
        "id": "00eda4af"
      },
      "outputs": [],
      "source": [
        ""
      ]
    }
  ],
  "metadata": {
    "kernelspec": {
      "display_name": "Python 3",
      "language": "python",
      "name": "python3"
    },
    "language_info": {
      "codemirror_mode": {
        "name": "ipython",
        "version": 3
      },
      "file_extension": ".py",
      "mimetype": "text/x-python",
      "name": "python",
      "nbconvert_exporter": "python",
      "pygments_lexer": "ipython3",
      "version": "3.8.8"
    },
    "colab": {
      "name": "00. Análisis Dataset.ipynb",
      "provenance": []
    }
  },
  "nbformat": 4,
  "nbformat_minor": 5
}