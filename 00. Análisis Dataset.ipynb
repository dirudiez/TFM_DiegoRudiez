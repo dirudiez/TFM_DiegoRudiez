{
  "cells": [
    {
      "cell_type": "code",
      "source": [
        "!pip install matplotlib==3.4 -q"
      ],
      "metadata": {
        "id": "G2Pby9NI2DRV"
      },
      "id": "G2Pby9NI2DRV",
      "execution_count": 25,
      "outputs": []
    },
    {
      "cell_type": "code",
      "source": [
        "import matplotlib\n",
        "import seaborn as sns\n",
        "import matplotlib.pyplot as plt\n",
        "\n",
        "matplotlib.__version__"
      ],
      "metadata": {
        "colab": {
          "base_uri": "https://localhost:8080/",
          "height": 35
        },
        "id": "pyinFvkZ2q90",
        "outputId": "f479fb3c-8d08-4f3d-a7c8-823e5140e663"
      },
      "id": "pyinFvkZ2q90",
      "execution_count": 2,
      "outputs": [
        {
          "output_type": "execute_result",
          "data": {
            "text/plain": [
              "'3.4.0'"
            ],
            "application/vnd.google.colaboratory.intrinsic+json": {
              "type": "string"
            }
          },
          "metadata": {},
          "execution_count": 2
        }
      ]
    },
    {
      "cell_type": "code",
      "execution_count": 3,
      "id": "d884f96a",
      "metadata": {
        "id": "d884f96a"
      },
      "outputs": [],
      "source": [
        "import os\n",
        "import pandas as pd\n",
        "\n",
        "pathTrain='Training_Set_Pre'\n",
        "pathTest='Test_Set_Pre'\n",
        "pathVal='Evaluation_Set_Pre'"
      ]
    },
    {
      "cell_type": "code",
      "source": [
        "!wget https://www.dropbox.com/s/o1eaoae59qgdo4i/Training_Set_Pre.zip?dl=0 -O train.zip\n",
        "!wget https://www.dropbox.com/s/5od5cac9xhxlcwu/Test_Set_Pre.zip?dl=0 -O test.zip\n",
        "!wget https://www.dropbox.com/s/gjz445xm4oddfus/Evaluation_Set_Pre.zip?dl=0 -O val.zip"
      ],
      "metadata": {
        "id": "DXdMAP0lx3CI",
        "outputId": "4fd15b6c-7a5b-43d2-de69-a0cd25ebdbef",
        "colab": {
          "base_uri": "https://localhost:8080/"
        }
      },
      "id": "DXdMAP0lx3CI",
      "execution_count": 2,
      "outputs": [
        {
          "output_type": "stream",
          "name": "stdout",
          "text": [
            "--2022-06-27 18:31:34--  https://www.dropbox.com/s/o1eaoae59qgdo4i/Training_Set_Pre.zip?dl=0\n",
            "Resolving www.dropbox.com (www.dropbox.com)... 162.125.3.18, 2620:100:6018:18::a27d:312\n",
            "Connecting to www.dropbox.com (www.dropbox.com)|162.125.3.18|:443... connected.\n",
            "HTTP request sent, awaiting response... 301 Moved Permanently\n",
            "Location: /s/raw/o1eaoae59qgdo4i/Training_Set_Pre.zip [following]\n",
            "--2022-06-27 18:31:35--  https://www.dropbox.com/s/raw/o1eaoae59qgdo4i/Training_Set_Pre.zip\n",
            "Reusing existing connection to www.dropbox.com:443.\n",
            "HTTP request sent, awaiting response... 302 Found\n",
            "Location: https://ucbdd2909bebada3d8950983470c.dl.dropboxusercontent.com/cd/0/inline/BoB1MAwrPSc9sa0w3yhQ8lxqq8x0LzzyoUwLYVEwFJ9LW1YZfRGS2TUses4pah__92ffykzZTgXTwvi4Go7siu9_V1Y6u410fLy_aTKB7bPRUq_hHP8eiPQqjEVtCVM9DJtEdiRQ3xnQJABz5HgSpfkN8Ll1cycgQ6ZMRm-Hk_MyKA/file# [following]\n",
            "--2022-06-27 18:31:35--  https://ucbdd2909bebada3d8950983470c.dl.dropboxusercontent.com/cd/0/inline/BoB1MAwrPSc9sa0w3yhQ8lxqq8x0LzzyoUwLYVEwFJ9LW1YZfRGS2TUses4pah__92ffykzZTgXTwvi4Go7siu9_V1Y6u410fLy_aTKB7bPRUq_hHP8eiPQqjEVtCVM9DJtEdiRQ3xnQJABz5HgSpfkN8Ll1cycgQ6ZMRm-Hk_MyKA/file\n",
            "Resolving ucbdd2909bebada3d8950983470c.dl.dropboxusercontent.com (ucbdd2909bebada3d8950983470c.dl.dropboxusercontent.com)... 162.125.3.15, 2620:100:601b:15::a27d:80f\n",
            "Connecting to ucbdd2909bebada3d8950983470c.dl.dropboxusercontent.com (ucbdd2909bebada3d8950983470c.dl.dropboxusercontent.com)|162.125.3.15|:443... connected.\n",
            "HTTP request sent, awaiting response... 302 Found\n",
            "Location: /cd/0/inline2/BoAbHUHykSWsGXUFsJyFKMfS8qiogVgoq00Qj7BmPvbxc0zSR9fwgxs3djGKoZwTNfxcUMi_OdlvwdDoy5b_vV7R-BoLoQmd7wTyceiSXzczcTyQFA5gFNTfS-PeB3mC8Z1LWne9HkkZub7BwcMA7GNbPAI3uAWzcPuZByrYDCnTZ-7yFyZaiWfVIvSr6pTSvNIgRFeQmyvgJArMvhF5048ZkhAIM9pUs5fD1KDqc5f78xgITqOSYJN5NBzFd8bX4hv4j0BPES-AhE4bYyjwyv8MkGM1JN4yMxFD2iUmiAQLjU8tMpIUowPD6KH5U9MT1Kd8qiUhq3PAI_xDY4i5dwxue8hhnf4Z2JmjPK9PsAV-Bt3bxmNsaVf2rZ7PuSVPTHKeQ8YaEbCZRY4sTtIw0BLISrVko5VL7EzRsBM3mHRm4w/file [following]\n",
            "--2022-06-27 18:31:35--  https://ucbdd2909bebada3d8950983470c.dl.dropboxusercontent.com/cd/0/inline2/BoAbHUHykSWsGXUFsJyFKMfS8qiogVgoq00Qj7BmPvbxc0zSR9fwgxs3djGKoZwTNfxcUMi_OdlvwdDoy5b_vV7R-BoLoQmd7wTyceiSXzczcTyQFA5gFNTfS-PeB3mC8Z1LWne9HkkZub7BwcMA7GNbPAI3uAWzcPuZByrYDCnTZ-7yFyZaiWfVIvSr6pTSvNIgRFeQmyvgJArMvhF5048ZkhAIM9pUs5fD1KDqc5f78xgITqOSYJN5NBzFd8bX4hv4j0BPES-AhE4bYyjwyv8MkGM1JN4yMxFD2iUmiAQLjU8tMpIUowPD6KH5U9MT1Kd8qiUhq3PAI_xDY4i5dwxue8hhnf4Z2JmjPK9PsAV-Bt3bxmNsaVf2rZ7PuSVPTHKeQ8YaEbCZRY4sTtIw0BLISrVko5VL7EzRsBM3mHRm4w/file\n",
            "Reusing existing connection to ucbdd2909bebada3d8950983470c.dl.dropboxusercontent.com:443.\n",
            "HTTP request sent, awaiting response... 200 OK\n",
            "Length: 138777773 (132M) [application/zip]\n",
            "Saving to: ‘train.zip’\n",
            "\n",
            "train.zip           100%[===================>] 132.35M  21.0MB/s    in 4.9s    \n",
            "\n",
            "2022-06-27 18:31:41 (27.1 MB/s) - ‘train.zip’ saved [138777773/138777773]\n",
            "\n",
            "--2022-06-27 18:31:41--  https://www.dropbox.com/s/5od5cac9xhxlcwu/Test_Set_Pre.zip?dl=0\n",
            "Resolving www.dropbox.com (www.dropbox.com)... 162.125.3.18, 2620:100:6018:18::a27d:312\n",
            "Connecting to www.dropbox.com (www.dropbox.com)|162.125.3.18|:443... connected.\n",
            "HTTP request sent, awaiting response... 301 Moved Permanently\n",
            "Location: /s/raw/5od5cac9xhxlcwu/Test_Set_Pre.zip [following]\n",
            "--2022-06-27 18:31:41--  https://www.dropbox.com/s/raw/5od5cac9xhxlcwu/Test_Set_Pre.zip\n",
            "Reusing existing connection to www.dropbox.com:443.\n",
            "HTTP request sent, awaiting response... 302 Found\n",
            "Location: https://uc017f8db951e3a9af395dc66c16.dl.dropboxusercontent.com/cd/0/inline/BoAHjy8PLisXosVbey2wSVtQ8UKAEL1Z_15CwODH0UHasXF_NMEgJhzl0hlzD17aN8odFUUCepxDpKBYEVEucrimoO6KYLVjlubxL09wkp-VFAo_jEx_j18gifJkZxM6TUmSMkIwAnk7G7WI3aXIlrEupTttMvdY4dDSAzBuX4Wt5Q/file# [following]\n",
            "--2022-06-27 18:31:42--  https://uc017f8db951e3a9af395dc66c16.dl.dropboxusercontent.com/cd/0/inline/BoAHjy8PLisXosVbey2wSVtQ8UKAEL1Z_15CwODH0UHasXF_NMEgJhzl0hlzD17aN8odFUUCepxDpKBYEVEucrimoO6KYLVjlubxL09wkp-VFAo_jEx_j18gifJkZxM6TUmSMkIwAnk7G7WI3aXIlrEupTttMvdY4dDSAzBuX4Wt5Q/file\n",
            "Resolving uc017f8db951e3a9af395dc66c16.dl.dropboxusercontent.com (uc017f8db951e3a9af395dc66c16.dl.dropboxusercontent.com)... 162.125.3.15, 2620:100:6030:15::a27d:500f\n",
            "Connecting to uc017f8db951e3a9af395dc66c16.dl.dropboxusercontent.com (uc017f8db951e3a9af395dc66c16.dl.dropboxusercontent.com)|162.125.3.15|:443... connected.\n",
            "HTTP request sent, awaiting response... 302 Found\n",
            "Location: /cd/0/inline2/BoAXBwU5u7oztsooZklRfthcyVVCPbwwjZ6d99y_wrJXVdE-MuEQYU3V-AIo5ZEPWw3KGYS8kZ8eGbDNUdFZtV8VGIV22oMlOb-4ie-r-PPsoBoi_5_iF0zRswoMEl23imb2_qUVCi7HYYvFazua_MWfCuFvKIN-mffdvHH8mtTAEEiUI_4MYjsKj5atZz4eoIopfiIbQbQWtrBkd5VWcoDizqp8hpiH8nBuxvJFhe9uBncbWISpRn9SKGie6-KDX8HwofYh5cPDUT3u9Y0frY-w7i3O1VNt99z4_PiKW_q67KlJ6ilWPprGIJO7hrO8XShYZwVosQDfwv0xefjxs45Gmyjx5ObB0Do2rzNxy7Kz4cnxxL7ZuEOX9tEgjwwmdZGDRf3RMjsfC9ulEp_oiimQ9BxHaiIazxo8NYehOVBGgg/file [following]\n",
            "--2022-06-27 18:31:42--  https://uc017f8db951e3a9af395dc66c16.dl.dropboxusercontent.com/cd/0/inline2/BoAXBwU5u7oztsooZklRfthcyVVCPbwwjZ6d99y_wrJXVdE-MuEQYU3V-AIo5ZEPWw3KGYS8kZ8eGbDNUdFZtV8VGIV22oMlOb-4ie-r-PPsoBoi_5_iF0zRswoMEl23imb2_qUVCi7HYYvFazua_MWfCuFvKIN-mffdvHH8mtTAEEiUI_4MYjsKj5atZz4eoIopfiIbQbQWtrBkd5VWcoDizqp8hpiH8nBuxvJFhe9uBncbWISpRn9SKGie6-KDX8HwofYh5cPDUT3u9Y0frY-w7i3O1VNt99z4_PiKW_q67KlJ6ilWPprGIJO7hrO8XShYZwVosQDfwv0xefjxs45Gmyjx5ObB0Do2rzNxy7Kz4cnxxL7ZuEOX9tEgjwwmdZGDRf3RMjsfC9ulEp_oiimQ9BxHaiIazxo8NYehOVBGgg/file\n",
            "Reusing existing connection to uc017f8db951e3a9af395dc66c16.dl.dropboxusercontent.com:443.\n",
            "HTTP request sent, awaiting response... 200 OK\n",
            "Length: 47874561 (46M) [application/zip]\n",
            "Saving to: ‘test.zip’\n",
            "\n",
            "test.zip            100%[===================>]  45.66M  83.8MB/s    in 0.5s    \n",
            "\n",
            "2022-06-27 18:31:43 (83.8 MB/s) - ‘test.zip’ saved [47874561/47874561]\n",
            "\n",
            "--2022-06-27 18:31:43--  https://www.dropbox.com/s/gjz445xm4oddfus/Evaluation_Set_Pre.zip?dl=0\n",
            "Resolving www.dropbox.com (www.dropbox.com)... 162.125.3.18, 2620:100:6018:18::a27d:312\n",
            "Connecting to www.dropbox.com (www.dropbox.com)|162.125.3.18|:443... connected.\n",
            "HTTP request sent, awaiting response... 301 Moved Permanently\n",
            "Location: /s/raw/gjz445xm4oddfus/Evaluation_Set_Pre.zip [following]\n",
            "--2022-06-27 18:31:43--  https://www.dropbox.com/s/raw/gjz445xm4oddfus/Evaluation_Set_Pre.zip\n",
            "Reusing existing connection to www.dropbox.com:443.\n",
            "HTTP request sent, awaiting response... 302 Found\n",
            "Location: https://ucf9cb069cf7a36ad461947a02d4.dl.dropboxusercontent.com/cd/0/inline/BoDd85jv57gBqjkLv-T72WetBYyqOTukEr4F72Rs43fYyPHHVimRq4Pcae81hA3xVapINxWoBKi6b-wm3jiL1X0PyUEVdWslJ0xA9YFqWXnGk9_MCReGsr43OURQVkrIrnaixkhJpzVVTISAFmITyn1XJg6ilJ-XdoF3oWPo9dpqNQ/file# [following]\n",
            "--2022-06-27 18:31:44--  https://ucf9cb069cf7a36ad461947a02d4.dl.dropboxusercontent.com/cd/0/inline/BoDd85jv57gBqjkLv-T72WetBYyqOTukEr4F72Rs43fYyPHHVimRq4Pcae81hA3xVapINxWoBKi6b-wm3jiL1X0PyUEVdWslJ0xA9YFqWXnGk9_MCReGsr43OURQVkrIrnaixkhJpzVVTISAFmITyn1XJg6ilJ-XdoF3oWPo9dpqNQ/file\n",
            "Resolving ucf9cb069cf7a36ad461947a02d4.dl.dropboxusercontent.com (ucf9cb069cf7a36ad461947a02d4.dl.dropboxusercontent.com)... 162.125.3.15, 2620:100:6023:15::a27d:430f\n",
            "Connecting to ucf9cb069cf7a36ad461947a02d4.dl.dropboxusercontent.com (ucf9cb069cf7a36ad461947a02d4.dl.dropboxusercontent.com)|162.125.3.15|:443... connected.\n",
            "HTTP request sent, awaiting response... 302 Found\n",
            "Location: /cd/0/inline2/BoCjV8W1ccgWuvptKIrMhFCJo52Bg-wX4JKJb0iaIwJZXmsQeIwDJXuoDKnEZsO3GclYmlen1cbCjkcqQKAsAeBfTtIZuDrUPc1nh5QMjYi1Auc7Pi-UrbtMyDbx8VgH2_CKZWWszm5IMIVf-7S3CjnqHybS6zZ3IKLtjIv_hkfcDRFVE3FGkL4Gj3kiXx9sqSpaOgF4aDJRrgMuRIF4blqxHE-52pChXDeRQ9P4yU4fnsKw-4ov6SPv7Qsc3hOaO4xJY1v8uP8D1W9UkloP03YkcgqSS2V2iv-9BCdh9bveqQ6MwmQkmN90h9K3Tq1_hbmBiaUSvoGvCzBYU-X15zurGZAj_138-lLnXYAdN4WzFVym-icZLP3_y1h7Ip40skOtUE_8qczEAP6KSrpJCHI6M-IcF6chD7u3CsHXSQOjkQ/file [following]\n",
            "--2022-06-27 18:31:44--  https://ucf9cb069cf7a36ad461947a02d4.dl.dropboxusercontent.com/cd/0/inline2/BoCjV8W1ccgWuvptKIrMhFCJo52Bg-wX4JKJb0iaIwJZXmsQeIwDJXuoDKnEZsO3GclYmlen1cbCjkcqQKAsAeBfTtIZuDrUPc1nh5QMjYi1Auc7Pi-UrbtMyDbx8VgH2_CKZWWszm5IMIVf-7S3CjnqHybS6zZ3IKLtjIv_hkfcDRFVE3FGkL4Gj3kiXx9sqSpaOgF4aDJRrgMuRIF4blqxHE-52pChXDeRQ9P4yU4fnsKw-4ov6SPv7Qsc3hOaO4xJY1v8uP8D1W9UkloP03YkcgqSS2V2iv-9BCdh9bveqQ6MwmQkmN90h9K3Tq1_hbmBiaUSvoGvCzBYU-X15zurGZAj_138-lLnXYAdN4WzFVym-icZLP3_y1h7Ip40skOtUE_8qczEAP6KSrpJCHI6M-IcF6chD7u3CsHXSQOjkQ/file\n",
            "Reusing existing connection to ucf9cb069cf7a36ad461947a02d4.dl.dropboxusercontent.com:443.\n",
            "HTTP request sent, awaiting response... 200 OK\n",
            "Length: 47378914 (45M) [application/zip]\n",
            "Saving to: ‘val.zip’\n",
            "\n",
            "val.zip             100%[===================>]  45.18M  62.5MB/s    in 0.7s    \n",
            "\n",
            "2022-06-27 18:31:45 (62.5 MB/s) - ‘val.zip’ saved [47378914/47378914]\n",
            "\n"
          ]
        }
      ]
    },
    {
      "cell_type": "code",
      "source": [
        "# !rm -rvf Training_Set_Pre\n",
        "!unzip -qq train.zip #-qq no verbose\n",
        "!unzip -qq test.zip\n",
        "!unzip -qq val.zip"
      ],
      "metadata": {
        "id": "EM_o5J0Tx50H"
      },
      "id": "EM_o5J0Tx50H",
      "execution_count": 3,
      "outputs": []
    },
    {
      "cell_type": "code",
      "execution_count": 4,
      "id": "4836b9ff",
      "metadata": {
        "id": "4836b9ff"
      },
      "outputs": [],
      "source": [
        "dirsTrain = os.listdir( pathTrain )"
      ]
    },
    {
      "cell_type": "code",
      "execution_count": 5,
      "id": "db953b40",
      "metadata": {
        "id": "db953b40",
        "outputId": "e5bbf7ab-39f2-4aba-a177-117b04ada66e",
        "colab": {
          "base_uri": "https://localhost:8080/"
        }
      },
      "outputs": [
        {
          "output_type": "execute_result",
          "data": {
            "text/plain": [
              "['Training', 'train.csv']"
            ]
          },
          "metadata": {},
          "execution_count": 5
        }
      ],
      "source": [
        "dirsTrain"
      ]
    },
    {
      "cell_type": "code",
      "execution_count": 6,
      "id": "408704f9",
      "metadata": {
        "id": "408704f9"
      },
      "outputs": [],
      "source": [
        "df_train = pd.read_csv(pathTrain + '/train.csv')\n",
        "df_test = pd.read_csv(pathTest + '/test.csv')\n",
        "df_val = pd.read_csv(pathVal + '/val.csv')"
      ]
    },
    {
      "cell_type": "code",
      "execution_count": 7,
      "id": "ff8626c8",
      "metadata": {
        "id": "ff8626c8",
        "outputId": "0fc2b5fe-279d-4a8e-a88a-85b4545b7c3d",
        "colab": {
          "base_uri": "https://localhost:8080/",
          "height": 424
        }
      },
      "outputs": [
        {
          "output_type": "execute_result",
          "data": {
            "text/plain": [
              "        ID  Disease_Risk  DR  ARMD  MH  DN  MYA  BRVO  TSLN  ERM  ...  AION  \\\n",
              "0        1             1   1     0   0   0    0     0     0    0  ...     0   \n",
              "1        2             1   1     0   0   0    0     0     0    0  ...     0   \n",
              "2        3             1   1     0   0   0    0     0     0    0  ...     0   \n",
              "3        4             1   0     0   1   0    0     0     0    0  ...     0   \n",
              "4        5             1   1     0   0   0    0     0     0    0  ...     0   \n",
              "...    ...           ...  ..   ...  ..  ..  ...   ...   ...  ...  ...   ...   \n",
              "1915  1916             1   0     0   0   0    0     0     0    0  ...     0   \n",
              "1916  1917             1   1     0   0   0    0     0     0    0  ...     0   \n",
              "1917  1918             0   0     0   0   0    0     0     0    0  ...     0   \n",
              "1918  1919             0   0     0   0   0    0     0     0    0  ...     0   \n",
              "1919  1920             0   0     0   0   0    0     0     0    0  ...     0   \n",
              "\n",
              "      PT  RT  RS  CRS  EDN  RPEC  MHL  RP  OTHER  \n",
              "0      0   0   0    0    0     0    0   0      0  \n",
              "1      0   0   0    0    0     0    0   0      0  \n",
              "2      0   0   0    0    0     0    0   0      0  \n",
              "3      0   0   0    0    0     0    0   0      0  \n",
              "4      0   0   0    0    0     0    0   0      0  \n",
              "...   ..  ..  ..  ...  ...   ...  ...  ..    ...  \n",
              "1915   0   0   0    0    0     0    0   0      0  \n",
              "1916   0   0   0    0    0     0    0   0      0  \n",
              "1917   0   0   0    0    0     0    0   0      0  \n",
              "1918   0   0   0    0    0     0    0   0      0  \n",
              "1919   0   0   0    0    0     0    0   0      0  \n",
              "\n",
              "[1920 rows x 30 columns]"
            ],
            "text/html": [
              "\n",
              "  <div id=\"df-ad9fc5e7-230b-4a6c-a415-05ff7e63cdcd\">\n",
              "    <div class=\"colab-df-container\">\n",
              "      <div>\n",
              "<style scoped>\n",
              "    .dataframe tbody tr th:only-of-type {\n",
              "        vertical-align: middle;\n",
              "    }\n",
              "\n",
              "    .dataframe tbody tr th {\n",
              "        vertical-align: top;\n",
              "    }\n",
              "\n",
              "    .dataframe thead th {\n",
              "        text-align: right;\n",
              "    }\n",
              "</style>\n",
              "<table border=\"1\" class=\"dataframe\">\n",
              "  <thead>\n",
              "    <tr style=\"text-align: right;\">\n",
              "      <th></th>\n",
              "      <th>ID</th>\n",
              "      <th>Disease_Risk</th>\n",
              "      <th>DR</th>\n",
              "      <th>ARMD</th>\n",
              "      <th>MH</th>\n",
              "      <th>DN</th>\n",
              "      <th>MYA</th>\n",
              "      <th>BRVO</th>\n",
              "      <th>TSLN</th>\n",
              "      <th>ERM</th>\n",
              "      <th>...</th>\n",
              "      <th>AION</th>\n",
              "      <th>PT</th>\n",
              "      <th>RT</th>\n",
              "      <th>RS</th>\n",
              "      <th>CRS</th>\n",
              "      <th>EDN</th>\n",
              "      <th>RPEC</th>\n",
              "      <th>MHL</th>\n",
              "      <th>RP</th>\n",
              "      <th>OTHER</th>\n",
              "    </tr>\n",
              "  </thead>\n",
              "  <tbody>\n",
              "    <tr>\n",
              "      <th>0</th>\n",
              "      <td>1</td>\n",
              "      <td>1</td>\n",
              "      <td>1</td>\n",
              "      <td>0</td>\n",
              "      <td>0</td>\n",
              "      <td>0</td>\n",
              "      <td>0</td>\n",
              "      <td>0</td>\n",
              "      <td>0</td>\n",
              "      <td>0</td>\n",
              "      <td>...</td>\n",
              "      <td>0</td>\n",
              "      <td>0</td>\n",
              "      <td>0</td>\n",
              "      <td>0</td>\n",
              "      <td>0</td>\n",
              "      <td>0</td>\n",
              "      <td>0</td>\n",
              "      <td>0</td>\n",
              "      <td>0</td>\n",
              "      <td>0</td>\n",
              "    </tr>\n",
              "    <tr>\n",
              "      <th>1</th>\n",
              "      <td>2</td>\n",
              "      <td>1</td>\n",
              "      <td>1</td>\n",
              "      <td>0</td>\n",
              "      <td>0</td>\n",
              "      <td>0</td>\n",
              "      <td>0</td>\n",
              "      <td>0</td>\n",
              "      <td>0</td>\n",
              "      <td>0</td>\n",
              "      <td>...</td>\n",
              "      <td>0</td>\n",
              "      <td>0</td>\n",
              "      <td>0</td>\n",
              "      <td>0</td>\n",
              "      <td>0</td>\n",
              "      <td>0</td>\n",
              "      <td>0</td>\n",
              "      <td>0</td>\n",
              "      <td>0</td>\n",
              "      <td>0</td>\n",
              "    </tr>\n",
              "    <tr>\n",
              "      <th>2</th>\n",
              "      <td>3</td>\n",
              "      <td>1</td>\n",
              "      <td>1</td>\n",
              "      <td>0</td>\n",
              "      <td>0</td>\n",
              "      <td>0</td>\n",
              "      <td>0</td>\n",
              "      <td>0</td>\n",
              "      <td>0</td>\n",
              "      <td>0</td>\n",
              "      <td>...</td>\n",
              "      <td>0</td>\n",
              "      <td>0</td>\n",
              "      <td>0</td>\n",
              "      <td>0</td>\n",
              "      <td>0</td>\n",
              "      <td>0</td>\n",
              "      <td>0</td>\n",
              "      <td>0</td>\n",
              "      <td>0</td>\n",
              "      <td>0</td>\n",
              "    </tr>\n",
              "    <tr>\n",
              "      <th>3</th>\n",
              "      <td>4</td>\n",
              "      <td>1</td>\n",
              "      <td>0</td>\n",
              "      <td>0</td>\n",
              "      <td>1</td>\n",
              "      <td>0</td>\n",
              "      <td>0</td>\n",
              "      <td>0</td>\n",
              "      <td>0</td>\n",
              "      <td>0</td>\n",
              "      <td>...</td>\n",
              "      <td>0</td>\n",
              "      <td>0</td>\n",
              "      <td>0</td>\n",
              "      <td>0</td>\n",
              "      <td>0</td>\n",
              "      <td>0</td>\n",
              "      <td>0</td>\n",
              "      <td>0</td>\n",
              "      <td>0</td>\n",
              "      <td>0</td>\n",
              "    </tr>\n",
              "    <tr>\n",
              "      <th>4</th>\n",
              "      <td>5</td>\n",
              "      <td>1</td>\n",
              "      <td>1</td>\n",
              "      <td>0</td>\n",
              "      <td>0</td>\n",
              "      <td>0</td>\n",
              "      <td>0</td>\n",
              "      <td>0</td>\n",
              "      <td>0</td>\n",
              "      <td>0</td>\n",
              "      <td>...</td>\n",
              "      <td>0</td>\n",
              "      <td>0</td>\n",
              "      <td>0</td>\n",
              "      <td>0</td>\n",
              "      <td>0</td>\n",
              "      <td>0</td>\n",
              "      <td>0</td>\n",
              "      <td>0</td>\n",
              "      <td>0</td>\n",
              "      <td>0</td>\n",
              "    </tr>\n",
              "    <tr>\n",
              "      <th>...</th>\n",
              "      <td>...</td>\n",
              "      <td>...</td>\n",
              "      <td>...</td>\n",
              "      <td>...</td>\n",
              "      <td>...</td>\n",
              "      <td>...</td>\n",
              "      <td>...</td>\n",
              "      <td>...</td>\n",
              "      <td>...</td>\n",
              "      <td>...</td>\n",
              "      <td>...</td>\n",
              "      <td>...</td>\n",
              "      <td>...</td>\n",
              "      <td>...</td>\n",
              "      <td>...</td>\n",
              "      <td>...</td>\n",
              "      <td>...</td>\n",
              "      <td>...</td>\n",
              "      <td>...</td>\n",
              "      <td>...</td>\n",
              "      <td>...</td>\n",
              "    </tr>\n",
              "    <tr>\n",
              "      <th>1915</th>\n",
              "      <td>1916</td>\n",
              "      <td>1</td>\n",
              "      <td>0</td>\n",
              "      <td>0</td>\n",
              "      <td>0</td>\n",
              "      <td>0</td>\n",
              "      <td>0</td>\n",
              "      <td>0</td>\n",
              "      <td>0</td>\n",
              "      <td>0</td>\n",
              "      <td>...</td>\n",
              "      <td>0</td>\n",
              "      <td>0</td>\n",
              "      <td>0</td>\n",
              "      <td>0</td>\n",
              "      <td>0</td>\n",
              "      <td>0</td>\n",
              "      <td>0</td>\n",
              "      <td>0</td>\n",
              "      <td>0</td>\n",
              "      <td>0</td>\n",
              "    </tr>\n",
              "    <tr>\n",
              "      <th>1916</th>\n",
              "      <td>1917</td>\n",
              "      <td>1</td>\n",
              "      <td>1</td>\n",
              "      <td>0</td>\n",
              "      <td>0</td>\n",
              "      <td>0</td>\n",
              "      <td>0</td>\n",
              "      <td>0</td>\n",
              "      <td>0</td>\n",
              "      <td>0</td>\n",
              "      <td>...</td>\n",
              "      <td>0</td>\n",
              "      <td>0</td>\n",
              "      <td>0</td>\n",
              "      <td>0</td>\n",
              "      <td>0</td>\n",
              "      <td>0</td>\n",
              "      <td>0</td>\n",
              "      <td>0</td>\n",
              "      <td>0</td>\n",
              "      <td>0</td>\n",
              "    </tr>\n",
              "    <tr>\n",
              "      <th>1917</th>\n",
              "      <td>1918</td>\n",
              "      <td>0</td>\n",
              "      <td>0</td>\n",
              "      <td>0</td>\n",
              "      <td>0</td>\n",
              "      <td>0</td>\n",
              "      <td>0</td>\n",
              "      <td>0</td>\n",
              "      <td>0</td>\n",
              "      <td>0</td>\n",
              "      <td>...</td>\n",
              "      <td>0</td>\n",
              "      <td>0</td>\n",
              "      <td>0</td>\n",
              "      <td>0</td>\n",
              "      <td>0</td>\n",
              "      <td>0</td>\n",
              "      <td>0</td>\n",
              "      <td>0</td>\n",
              "      <td>0</td>\n",
              "      <td>0</td>\n",
              "    </tr>\n",
              "    <tr>\n",
              "      <th>1918</th>\n",
              "      <td>1919</td>\n",
              "      <td>0</td>\n",
              "      <td>0</td>\n",
              "      <td>0</td>\n",
              "      <td>0</td>\n",
              "      <td>0</td>\n",
              "      <td>0</td>\n",
              "      <td>0</td>\n",
              "      <td>0</td>\n",
              "      <td>0</td>\n",
              "      <td>...</td>\n",
              "      <td>0</td>\n",
              "      <td>0</td>\n",
              "      <td>0</td>\n",
              "      <td>0</td>\n",
              "      <td>0</td>\n",
              "      <td>0</td>\n",
              "      <td>0</td>\n",
              "      <td>0</td>\n",
              "      <td>0</td>\n",
              "      <td>0</td>\n",
              "    </tr>\n",
              "    <tr>\n",
              "      <th>1919</th>\n",
              "      <td>1920</td>\n",
              "      <td>0</td>\n",
              "      <td>0</td>\n",
              "      <td>0</td>\n",
              "      <td>0</td>\n",
              "      <td>0</td>\n",
              "      <td>0</td>\n",
              "      <td>0</td>\n",
              "      <td>0</td>\n",
              "      <td>0</td>\n",
              "      <td>...</td>\n",
              "      <td>0</td>\n",
              "      <td>0</td>\n",
              "      <td>0</td>\n",
              "      <td>0</td>\n",
              "      <td>0</td>\n",
              "      <td>0</td>\n",
              "      <td>0</td>\n",
              "      <td>0</td>\n",
              "      <td>0</td>\n",
              "      <td>0</td>\n",
              "    </tr>\n",
              "  </tbody>\n",
              "</table>\n",
              "<p>1920 rows × 30 columns</p>\n",
              "</div>\n",
              "      <button class=\"colab-df-convert\" onclick=\"convertToInteractive('df-ad9fc5e7-230b-4a6c-a415-05ff7e63cdcd')\"\n",
              "              title=\"Convert this dataframe to an interactive table.\"\n",
              "              style=\"display:none;\">\n",
              "        \n",
              "  <svg xmlns=\"http://www.w3.org/2000/svg\" height=\"24px\"viewBox=\"0 0 24 24\"\n",
              "       width=\"24px\">\n",
              "    <path d=\"M0 0h24v24H0V0z\" fill=\"none\"/>\n",
              "    <path d=\"M18.56 5.44l.94 2.06.94-2.06 2.06-.94-2.06-.94-.94-2.06-.94 2.06-2.06.94zm-11 1L8.5 8.5l.94-2.06 2.06-.94-2.06-.94L8.5 2.5l-.94 2.06-2.06.94zm10 10l.94 2.06.94-2.06 2.06-.94-2.06-.94-.94-2.06-.94 2.06-2.06.94z\"/><path d=\"M17.41 7.96l-1.37-1.37c-.4-.4-.92-.59-1.43-.59-.52 0-1.04.2-1.43.59L10.3 9.45l-7.72 7.72c-.78.78-.78 2.05 0 2.83L4 21.41c.39.39.9.59 1.41.59.51 0 1.02-.2 1.41-.59l7.78-7.78 2.81-2.81c.8-.78.8-2.07 0-2.86zM5.41 20L4 18.59l7.72-7.72 1.47 1.35L5.41 20z\"/>\n",
              "  </svg>\n",
              "      </button>\n",
              "      \n",
              "  <style>\n",
              "    .colab-df-container {\n",
              "      display:flex;\n",
              "      flex-wrap:wrap;\n",
              "      gap: 12px;\n",
              "    }\n",
              "\n",
              "    .colab-df-convert {\n",
              "      background-color: #E8F0FE;\n",
              "      border: none;\n",
              "      border-radius: 50%;\n",
              "      cursor: pointer;\n",
              "      display: none;\n",
              "      fill: #1967D2;\n",
              "      height: 32px;\n",
              "      padding: 0 0 0 0;\n",
              "      width: 32px;\n",
              "    }\n",
              "\n",
              "    .colab-df-convert:hover {\n",
              "      background-color: #E2EBFA;\n",
              "      box-shadow: 0px 1px 2px rgba(60, 64, 67, 0.3), 0px 1px 3px 1px rgba(60, 64, 67, 0.15);\n",
              "      fill: #174EA6;\n",
              "    }\n",
              "\n",
              "    [theme=dark] .colab-df-convert {\n",
              "      background-color: #3B4455;\n",
              "      fill: #D2E3FC;\n",
              "    }\n",
              "\n",
              "    [theme=dark] .colab-df-convert:hover {\n",
              "      background-color: #434B5C;\n",
              "      box-shadow: 0px 1px 3px 1px rgba(0, 0, 0, 0.15);\n",
              "      filter: drop-shadow(0px 1px 2px rgba(0, 0, 0, 0.3));\n",
              "      fill: #FFFFFF;\n",
              "    }\n",
              "  </style>\n",
              "\n",
              "      <script>\n",
              "        const buttonEl =\n",
              "          document.querySelector('#df-ad9fc5e7-230b-4a6c-a415-05ff7e63cdcd button.colab-df-convert');\n",
              "        buttonEl.style.display =\n",
              "          google.colab.kernel.accessAllowed ? 'block' : 'none';\n",
              "\n",
              "        async function convertToInteractive(key) {\n",
              "          const element = document.querySelector('#df-ad9fc5e7-230b-4a6c-a415-05ff7e63cdcd');\n",
              "          const dataTable =\n",
              "            await google.colab.kernel.invokeFunction('convertToInteractive',\n",
              "                                                     [key], {});\n",
              "          if (!dataTable) return;\n",
              "\n",
              "          const docLinkHtml = 'Like what you see? Visit the ' +\n",
              "            '<a target=\"_blank\" href=https://colab.research.google.com/notebooks/data_table.ipynb>data table notebook</a>'\n",
              "            + ' to learn more about interactive tables.';\n",
              "          element.innerHTML = '';\n",
              "          dataTable['output_type'] = 'display_data';\n",
              "          await google.colab.output.renderOutput(dataTable, element);\n",
              "          const docLink = document.createElement('div');\n",
              "          docLink.innerHTML = docLinkHtml;\n",
              "          element.appendChild(docLink);\n",
              "        }\n",
              "      </script>\n",
              "    </div>\n",
              "  </div>\n",
              "  "
            ]
          },
          "metadata": {},
          "execution_count": 7
        }
      ],
      "source": [
        "df_train"
      ]
    },
    {
      "cell_type": "code",
      "execution_count": 8,
      "id": "e5127f3e",
      "metadata": {
        "id": "e5127f3e"
      },
      "outputs": [],
      "source": [
        "# from sklearn.utils import shuffle\n",
        "\n",
        "# x = df_train['ID']\n",
        "# y = df_train['Disease_Risk']\n",
        "\n",
        "# df_train= pd.concat([x,y], axis=1)"
      ]
    },
    {
      "cell_type": "code",
      "execution_count": 9,
      "id": "facdbe5a",
      "metadata": {
        "scrolled": false,
        "id": "facdbe5a"
      },
      "outputs": [],
      "source": [
        "# serie_train = df_train['Disease_Risk'].value_counts()\n",
        "# serie_train\n",
        "\n",
        "# serie_test = df_test['Disease_Risk'].value_counts()\n",
        "# serie_test"
      ]
    },
    {
      "cell_type": "code",
      "execution_count": 10,
      "id": "285e1865",
      "metadata": {
        "scrolled": true,
        "id": "285e1865",
        "outputId": "741184dc-573d-467f-ed3f-23420aef80b6",
        "colab": {
          "base_uri": "https://localhost:8080/",
          "height": 336
        }
      },
      "outputs": [
        {
          "output_type": "execute_result",
          "data": {
            "text/plain": [
              "<AxesSubplot:title={'center':'Entrenamiento'}>"
            ]
          },
          "metadata": {},
          "execution_count": 10
        },
        {
          "output_type": "display_data",
          "data": {
            "text/plain": [
              "<Figure size 360x360 with 1 Axes>"
            ],
            "image/png": "[encoded data removed]"
          },
          "metadata": {}
        }
      ],
      "source": [
        "serie_train = df_train['Disease_Risk'].value_counts()\n",
        "serie_train.plot(title='Entrenamiento', ylabel='', kind='pie', figsize=(5, 5), labels=['Riesgo ' + str(serie_train[1]), \n",
        "                                                                                      'Normal ' + str(serie_train[0])], colors=['#E81919', 'green'])"
      ]
    },
    {
      "cell_type": "code",
      "execution_count": 11,
      "id": "0c939f0d",
      "metadata": {
        "scrolled": true,
        "id": "0c939f0d",
        "outputId": "038edaad-b673-4ca5-e0f1-94675ddf1457",
        "colab": {
          "base_uri": "https://localhost:8080/",
          "height": 336
        }
      },
      "outputs": [
        {
          "output_type": "execute_result",
          "data": {
            "text/plain": [
              "<AxesSubplot:title={'center':'Test'}>"
            ]
          },
          "metadata": {},
          "execution_count": 11
        },
        {
          "output_type": "display_data",
          "data": {
            "text/plain": [
              "<Figure size 360x360 with 1 Axes>"
            ],
            "image/png": "[encoded data removed]"
          },
          "metadata": {}
        }
      ],
      "source": [
        "serie_test = df_test['Disease_Risk'].value_counts()\n",
        "serie_test.plot(title='Test', ylabel='', kind='pie', figsize=(5, 5), labels=['Riesgo ' + str(serie_test[1]), \n",
        "                                                                                      'Normal ' + str(serie_test[0])], colors=['#E81919', 'green'])"
      ]
    },
    {
      "cell_type": "code",
      "execution_count": 12,
      "id": "e5a95730",
      "metadata": {
        "scrolled": true,
        "id": "e5a95730",
        "outputId": "5985953f-6ada-44e1-edfd-9c8f9338ae43",
        "colab": {
          "base_uri": "https://localhost:8080/",
          "height": 336
        }
      },
      "outputs": [
        {
          "output_type": "execute_result",
          "data": {
            "text/plain": [
              "<AxesSubplot:title={'center':'Validación'}>"
            ]
          },
          "metadata": {},
          "execution_count": 12
        },
        {
          "output_type": "display_data",
          "data": {
            "text/plain": [
              "<Figure size 360x360 with 1 Axes>"
            ],
            "image/png": "[encoded data removed]"
          },
          "metadata": {}
        }
      ],
      "source": [
        "serie_val = df_val['Disease_Risk'].value_counts()\n",
        "serie_val.plot(title='Validación', ylabel='', kind='pie', figsize=(5, 5), labels=['Riesgo ' + str(serie_val[1]), \n",
        "                                                                                      'Normal ' + str(serie_val[0])], colors=['#E81919', 'green'])"
      ]
    },
    {
      "cell_type": "code",
      "execution_count": 13,
      "id": "1e2c20ea",
      "metadata": {
        "id": "1e2c20ea",
        "outputId": "074b79f0-3ded-47f8-b74f-ff3c9ff09e5e",
        "colab": {
          "base_uri": "https://localhost:8080/",
          "height": 280
        }
      },
      "outputs": [
        {
          "output_type": "execute_result",
          "data": {
            "text/plain": [
              "<AxesSubplot:>"
            ]
          },
          "metadata": {},
          "execution_count": 13
        },
        {
          "output_type": "display_data",
          "data": {
            "text/plain": [
              "<Figure size 432x288 with 1 Axes>"
            ],
            "image/png": "[encoded data removed]"
          },
          "metadata": {
            "needs_background": "light"
          }
        }
      ],
      "source": [
        "df_train.DR.value_counts().sort_values().plot(kind = 'bar')"
      ]
    },
    {
      "cell_type": "code",
      "execution_count": 47,
      "id": "cf7cc311",
      "metadata": {
        "scrolled": false,
        "id": "cf7cc311",
        "colab": {
          "base_uri": "https://localhost:8080/",
          "height": 296
        },
        "outputId": "192d0dfb-e6a5-4cc9-e590-5e72689453bc"
      },
      "outputs": [
        {
          "output_type": "execute_result",
          "data": {
            "text/plain": [
              "<matplotlib.legend.Legend at 0x7fec4b451fd0>"
            ]
          },
          "metadata": {},
          "execution_count": 47
        },
        {
          "output_type": "display_data",
          "data": {
            "text/plain": [
              "<Figure size 1080x288 with 1 Axes>"
            ],
            "image/png": "[encoded data removed]"
          },
          "metadata": {
            "needs_background": "light"
          }
        }
      ],
      "source": [
        "fig, ax = plt.subplots(figsize=(15,4))\n",
        "colors = ['#E81919']\n",
        "ax = sns.set_palette(sns.color_palette(colors))\n",
        "\n",
        "df = pd.melt(df_train.iloc[:,2:])\n",
        "ax = sns.countplot(ax=ax, x=\"variable\", hue=\"value\", data=df.loc[df['value']==1])\n",
        "\n",
        "for container in ax.containers:\n",
        "    ax.bar_label(container)\n",
        "legend_labels, _= ax.get_legend_handles_labels()\n",
        "ax.legend(legend_labels, ['enfermedad'], \n",
        "          bbox_to_anchor=(1,1), \n",
        "          title='Enfermedades conjunto de entrenamiento')"
      ]
    },
    {
      "cell_type": "code",
      "execution_count": 14,
      "id": "0012e54a",
      "metadata": {
        "id": "0012e54a",
        "outputId": "84b8f309-c82c-4949-dd74-05bf3a1d8aca",
        "colab": {
          "base_uri": "https://localhost:8080/",
          "height": 521
        }
      },
      "outputs": [
        {
          "output_type": "execute_result",
          "data": {
            "text/plain": [
              "<matplotlib.legend.Legend at 0x7fec4f602dd0>"
            ]
          },
          "metadata": {},
          "execution_count": 14
        },
        {
          "output_type": "display_data",
          "data": {
            "text/plain": [
              "<Figure size 1584x720 with 1 Axes>"
            ],
            "image/png": "[encoded data removed]"
          },
          "metadata": {
            "needs_background": "light"
          }
        }
      ],
      "source": [
        "fig, ax = plt.subplots(figsize=(22,10))\n",
        "colors = ['green', '#E81919']\n",
        "ax = sns.set_palette(sns.color_palette(colors))\n",
        "ax = sns.countplot(ax=ax, x=\"variable\", hue=\"value\", data=pd.melt(df_train.iloc[:,2:]))\n",
        "# ax.bar_label(ax.containers[0])\n",
        "for container in ax.containers:\n",
        "    ax.bar_label(container)\n",
        "legend_labels, _= ax.get_legend_handles_labels()\n",
        "ax.legend(legend_labels, ['normal','enfermedad'], \n",
        "          bbox_to_anchor=(1,1), \n",
        "          title='Enfermedade conjunto de entrenamiento')"
      ]
    },
    {
      "cell_type": "code",
      "source": [
        "ax = sns.countplot(x=\"variable\", hue=\"value\", data=pd.melt(df_train))"
      ],
      "metadata": {
        "id": "lSJEw5vDzsN9"
      },
      "id": "lSJEw5vDzsN9",
      "execution_count": null,
      "outputs": []
    },
    {
      "cell_type": "code",
      "execution_count": null,
      "id": "1d12101b",
      "metadata": {
        "id": "1d12101b"
      },
      "outputs": [],
      "source": [
        "ax = sns.countplot(x=\"DR\", data=df_train)"
      ]
    },
    {
      "cell_type": "code",
      "execution_count": null,
      "id": "663250a3",
      "metadata": {
        "id": "663250a3",
        "outputId": "cc62c87a-6428-4bc6-9c55-581bf6ed000f"
      },
      "outputs": [
        {
          "data": {
            "text/plain": [
              "DR  ARMD\n",
              "0   0       1444\n",
              "1   0        376\n",
              "0   1        100\n",
              "dtype: int64"
            ]
          },
          "execution_count": 48,
          "metadata": {},
          "output_type": "execute_result"
        }
      ],
      "source": [
        "df_train.iloc[:,2:4].value_counts()"
      ]
    },
    {
      "cell_type": "code",
      "execution_count": null,
      "id": "22493a99",
      "metadata": {
        "id": "22493a99",
        "outputId": "ef79de6b-7b3c-42a5-aca8-fcd74aab6112"
      },
      "outputs": [
        {
          "data": {
            "text/html": [
              "<div>\n",
              "<style scoped>\n",
              "    .dataframe tbody tr th:only-of-type {\n",
              "        vertical-align: middle;\n",
              "    }\n",
              "\n",
              "    .dataframe tbody tr th {\n",
              "        vertical-align: top;\n",
              "    }\n",
              "\n",
              "    .dataframe thead th {\n",
              "        text-align: right;\n",
              "    }\n",
              "</style>\n",
              "<table border=\"1\" class=\"dataframe\">\n",
              "  <thead>\n",
              "    <tr style=\"text-align: right;\">\n",
              "      <th></th>\n",
              "      <th>DR</th>\n",
              "      <th>ARMD</th>\n",
              "      <th>MH</th>\n",
              "      <th>DN</th>\n",
              "      <th>MYA</th>\n",
              "      <th>BRVO</th>\n",
              "      <th>TSLN</th>\n",
              "      <th>ERM</th>\n",
              "      <th>LS</th>\n",
              "      <th>MS</th>\n",
              "      <th>...</th>\n",
              "      <th>AION</th>\n",
              "      <th>PT</th>\n",
              "      <th>RT</th>\n",
              "      <th>RS</th>\n",
              "      <th>CRS</th>\n",
              "      <th>EDN</th>\n",
              "      <th>RPEC</th>\n",
              "      <th>MHL</th>\n",
              "      <th>RP</th>\n",
              "      <th>OTHER</th>\n",
              "    </tr>\n",
              "  </thead>\n",
              "  <tbody>\n",
              "    <tr>\n",
              "      <th>0</th>\n",
              "      <td>1</td>\n",
              "      <td>0</td>\n",
              "      <td>0</td>\n",
              "      <td>0</td>\n",
              "      <td>0</td>\n",
              "      <td>0</td>\n",
              "      <td>0</td>\n",
              "      <td>0</td>\n",
              "      <td>0</td>\n",
              "      <td>0</td>\n",
              "      <td>...</td>\n",
              "      <td>0</td>\n",
              "      <td>0</td>\n",
              "      <td>0</td>\n",
              "      <td>0</td>\n",
              "      <td>0</td>\n",
              "      <td>0</td>\n",
              "      <td>0</td>\n",
              "      <td>0</td>\n",
              "      <td>0</td>\n",
              "      <td>0</td>\n",
              "    </tr>\n",
              "    <tr>\n",
              "      <th>1</th>\n",
              "      <td>1</td>\n",
              "      <td>0</td>\n",
              "      <td>0</td>\n",
              "      <td>0</td>\n",
              "      <td>0</td>\n",
              "      <td>0</td>\n",
              "      <td>0</td>\n",
              "      <td>0</td>\n",
              "      <td>0</td>\n",
              "      <td>0</td>\n",
              "      <td>...</td>\n",
              "      <td>0</td>\n",
              "      <td>0</td>\n",
              "      <td>0</td>\n",
              "      <td>0</td>\n",
              "      <td>0</td>\n",
              "      <td>0</td>\n",
              "      <td>0</td>\n",
              "      <td>0</td>\n",
              "      <td>0</td>\n",
              "      <td>0</td>\n",
              "    </tr>\n",
              "    <tr>\n",
              "      <th>2</th>\n",
              "      <td>1</td>\n",
              "      <td>0</td>\n",
              "      <td>0</td>\n",
              "      <td>0</td>\n",
              "      <td>0</td>\n",
              "      <td>0</td>\n",
              "      <td>0</td>\n",
              "      <td>0</td>\n",
              "      <td>0</td>\n",
              "      <td>0</td>\n",
              "      <td>...</td>\n",
              "      <td>0</td>\n",
              "      <td>0</td>\n",
              "      <td>0</td>\n",
              "      <td>0</td>\n",
              "      <td>0</td>\n",
              "      <td>0</td>\n",
              "      <td>0</td>\n",
              "      <td>0</td>\n",
              "      <td>0</td>\n",
              "      <td>0</td>\n",
              "    </tr>\n",
              "    <tr>\n",
              "      <th>3</th>\n",
              "      <td>0</td>\n",
              "      <td>0</td>\n",
              "      <td>1</td>\n",
              "      <td>0</td>\n",
              "      <td>0</td>\n",
              "      <td>0</td>\n",
              "      <td>0</td>\n",
              "      <td>0</td>\n",
              "      <td>0</td>\n",
              "      <td>0</td>\n",
              "      <td>...</td>\n",
              "      <td>0</td>\n",
              "      <td>0</td>\n",
              "      <td>0</td>\n",
              "      <td>0</td>\n",
              "      <td>0</td>\n",
              "      <td>0</td>\n",
              "      <td>0</td>\n",
              "      <td>0</td>\n",
              "      <td>0</td>\n",
              "      <td>0</td>\n",
              "    </tr>\n",
              "    <tr>\n",
              "      <th>4</th>\n",
              "      <td>1</td>\n",
              "      <td>0</td>\n",
              "      <td>0</td>\n",
              "      <td>0</td>\n",
              "      <td>0</td>\n",
              "      <td>0</td>\n",
              "      <td>0</td>\n",
              "      <td>0</td>\n",
              "      <td>1</td>\n",
              "      <td>0</td>\n",
              "      <td>...</td>\n",
              "      <td>0</td>\n",
              "      <td>0</td>\n",
              "      <td>0</td>\n",
              "      <td>0</td>\n",
              "      <td>0</td>\n",
              "      <td>0</td>\n",
              "      <td>0</td>\n",
              "      <td>0</td>\n",
              "      <td>0</td>\n",
              "      <td>0</td>\n",
              "    </tr>\n",
              "    <tr>\n",
              "      <th>...</th>\n",
              "      <td>...</td>\n",
              "      <td>...</td>\n",
              "      <td>...</td>\n",
              "      <td>...</td>\n",
              "      <td>...</td>\n",
              "      <td>...</td>\n",
              "      <td>...</td>\n",
              "      <td>...</td>\n",
              "      <td>...</td>\n",
              "      <td>...</td>\n",
              "      <td>...</td>\n",
              "      <td>...</td>\n",
              "      <td>...</td>\n",
              "      <td>...</td>\n",
              "      <td>...</td>\n",
              "      <td>...</td>\n",
              "      <td>...</td>\n",
              "      <td>...</td>\n",
              "      <td>...</td>\n",
              "      <td>...</td>\n",
              "      <td>...</td>\n",
              "    </tr>\n",
              "    <tr>\n",
              "      <th>1915</th>\n",
              "      <td>0</td>\n",
              "      <td>0</td>\n",
              "      <td>0</td>\n",
              "      <td>0</td>\n",
              "      <td>0</td>\n",
              "      <td>0</td>\n",
              "      <td>0</td>\n",
              "      <td>0</td>\n",
              "      <td>0</td>\n",
              "      <td>0</td>\n",
              "      <td>...</td>\n",
              "      <td>0</td>\n",
              "      <td>0</td>\n",
              "      <td>0</td>\n",
              "      <td>0</td>\n",
              "      <td>0</td>\n",
              "      <td>0</td>\n",
              "      <td>0</td>\n",
              "      <td>0</td>\n",
              "      <td>0</td>\n",
              "      <td>0</td>\n",
              "    </tr>\n",
              "    <tr>\n",
              "      <th>1916</th>\n",
              "      <td>1</td>\n",
              "      <td>0</td>\n",
              "      <td>0</td>\n",
              "      <td>0</td>\n",
              "      <td>0</td>\n",
              "      <td>0</td>\n",
              "      <td>0</td>\n",
              "      <td>0</td>\n",
              "      <td>1</td>\n",
              "      <td>0</td>\n",
              "      <td>...</td>\n",
              "      <td>0</td>\n",
              "      <td>0</td>\n",
              "      <td>0</td>\n",
              "      <td>0</td>\n",
              "      <td>0</td>\n",
              "      <td>0</td>\n",
              "      <td>0</td>\n",
              "      <td>0</td>\n",
              "      <td>0</td>\n",
              "      <td>0</td>\n",
              "    </tr>\n",
              "    <tr>\n",
              "      <th>1917</th>\n",
              "      <td>0</td>\n",
              "      <td>0</td>\n",
              "      <td>0</td>\n",
              "      <td>0</td>\n",
              "      <td>0</td>\n",
              "      <td>0</td>\n",
              "      <td>0</td>\n",
              "      <td>0</td>\n",
              "      <td>0</td>\n",
              "      <td>0</td>\n",
              "      <td>...</td>\n",
              "      <td>0</td>\n",
              "      <td>0</td>\n",
              "      <td>0</td>\n",
              "      <td>0</td>\n",
              "      <td>0</td>\n",
              "      <td>0</td>\n",
              "      <td>0</td>\n",
              "      <td>0</td>\n",
              "      <td>0</td>\n",
              "      <td>0</td>\n",
              "    </tr>\n",
              "    <tr>\n",
              "      <th>1918</th>\n",
              "      <td>0</td>\n",
              "      <td>0</td>\n",
              "      <td>0</td>\n",
              "      <td>0</td>\n",
              "      <td>0</td>\n",
              "      <td>0</td>\n",
              "      <td>0</td>\n",
              "      <td>0</td>\n",
              "      <td>0</td>\n",
              "      <td>0</td>\n",
              "      <td>...</td>\n",
              "      <td>0</td>\n",
              "      <td>0</td>\n",
              "      <td>0</td>\n",
              "      <td>0</td>\n",
              "      <td>0</td>\n",
              "      <td>0</td>\n",
              "      <td>0</td>\n",
              "      <td>0</td>\n",
              "      <td>0</td>\n",
              "      <td>0</td>\n",
              "    </tr>\n",
              "    <tr>\n",
              "      <th>1919</th>\n",
              "      <td>0</td>\n",
              "      <td>0</td>\n",
              "      <td>0</td>\n",
              "      <td>0</td>\n",
              "      <td>0</td>\n",
              "      <td>0</td>\n",
              "      <td>0</td>\n",
              "      <td>0</td>\n",
              "      <td>0</td>\n",
              "      <td>0</td>\n",
              "      <td>...</td>\n",
              "      <td>0</td>\n",
              "      <td>0</td>\n",
              "      <td>0</td>\n",
              "      <td>0</td>\n",
              "      <td>0</td>\n",
              "      <td>0</td>\n",
              "      <td>0</td>\n",
              "      <td>0</td>\n",
              "      <td>0</td>\n",
              "      <td>0</td>\n",
              "    </tr>\n",
              "  </tbody>\n",
              "</table>\n",
              "<p>1920 rows × 28 columns</p>\n",
              "</div>"
            ],
            "text/plain": [
              "      DR  ARMD  MH  DN  MYA  BRVO  TSLN  ERM  LS  MS  ...  AION  PT  RT  RS  \\\n",
              "0      1     0   0   0    0     0     0    0   0   0  ...     0   0   0   0   \n",
              "1      1     0   0   0    0     0     0    0   0   0  ...     0   0   0   0   \n",
              "2      1     0   0   0    0     0     0    0   0   0  ...     0   0   0   0   \n",
              "3      0     0   1   0    0     0     0    0   0   0  ...     0   0   0   0   \n",
              "4      1     0   0   0    0     0     0    0   1   0  ...     0   0   0   0   \n",
              "...   ..   ...  ..  ..  ...   ...   ...  ...  ..  ..  ...   ...  ..  ..  ..   \n",
              "1915   0     0   0   0    0     0     0    0   0   0  ...     0   0   0   0   \n",
              "1916   1     0   0   0    0     0     0    0   1   0  ...     0   0   0   0   \n",
              "1917   0     0   0   0    0     0     0    0   0   0  ...     0   0   0   0   \n",
              "1918   0     0   0   0    0     0     0    0   0   0  ...     0   0   0   0   \n",
              "1919   0     0   0   0    0     0     0    0   0   0  ...     0   0   0   0   \n",
              "\n",
              "      CRS  EDN  RPEC  MHL  RP  OTHER  \n",
              "0       0    0     0    0   0      0  \n",
              "1       0    0     0    0   0      0  \n",
              "2       0    0     0    0   0      0  \n",
              "3       0    0     0    0   0      0  \n",
              "4       0    0     0    0   0      0  \n",
              "...   ...  ...   ...  ...  ..    ...  \n",
              "1915    0    0     0    0   0      0  \n",
              "1916    0    0     0    0   0      0  \n",
              "1917    0    0     0    0   0      0  \n",
              "1918    0    0     0    0   0      0  \n",
              "1919    0    0     0    0   0      0  \n",
              "\n",
              "[1920 rows x 28 columns]"
            ]
          },
          "execution_count": 40,
          "metadata": {},
          "output_type": "execute_result"
        }
      ],
      "source": [
        "df_train.iloc[:,2:]"
      ]
    },
    {
      "cell_type": "code",
      "execution_count": null,
      "id": "00eda4af",
      "metadata": {
        "id": "00eda4af"
      },
      "outputs": [],
      "source": [
        ""
      ]
    }
  ],
  "metadata": {
    "kernelspec": {
      "display_name": "Python 3",
      "language": "python",
      "name": "python3"
    },
    "language_info": {
      "codemirror_mode": {
        "name": "ipython",
        "version": 3
      },
      "file_extension": ".py",
      "mimetype": "text/x-python",
      "name": "python",
      "nbconvert_exporter": "python",
      "pygments_lexer": "ipython3",
      "version": "3.8.8"
    },
    "colab": {
      "name": "00. Análisis Dataset.ipynb",
      "provenance": []
    }
  },
  "nbformat": 4,
  "nbformat_minor": 5
}