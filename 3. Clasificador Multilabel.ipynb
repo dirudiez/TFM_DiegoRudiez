{
  "nbformat": 4,
  "nbformat_minor": 0,
  "metadata": {
    "colab": {
      "name": "3. Clasificador Multilabel.ipynb",
      "provenance": [],
      "authorship_tag": "ABX9TyM1VPuGj8xuaJefv1HXZKM5",
      "include_colab_link": true
    },
    "kernelspec": {
      "name": "python3",
      "display_name": "Python 3"
    },
    "language_info": {
      "name": "python"
    },
    "accelerator": "GPU"
  },
  "cells": [
    {
      "cell_type": "markdown",
      "metadata": {
        "id": "view-in-github",
        "colab_type": "text"
      },
      "source": [
        "<a href=\"https://colab.research.google.com/github/dirudiez/TFM_DiegoRudiez/blob/main/3_Clasificador_Multilabel.ipynb\" target=\"_parent\"><img src=\"https://colab.research.google.com/assets/colab-badge.svg\" alt=\"Open In Colab\"/></a>"
      ]
    },
    {
      "cell_type": "markdown",
      "source": [
        "https://walkwithfastai.com/Multi_Label"
      ],
      "metadata": {
        "id": "GuURZGmRGSmh"
      }
    },
    {
      "cell_type": "code",
      "source": [
        "!pip install fastai -Uq\n",
        "\n",
        "#Reiniciamos el entorno de ejecución automáticamente\n",
        "import IPython\n",
        "IPython.Application.instance().kernel.do_shutdown(True)"
      ],
      "metadata": {
        "colab": {
          "base_uri": "https://localhost:8080/"
        },
        "id": "l3JSSxB-GdkS",
        "outputId": "656e9063-fdc0-4645-ad5f-d97f0e4eba37"
      },
      "execution_count": 1,
      "outputs": [
        {
          "output_type": "stream",
          "name": "stdout",
          "text": [
            "\u001b[K     |████████████████████████████████| 197 kB 8.3 MB/s \n",
            "\u001b[K     |████████████████████████████████| 59 kB 2.8 MB/s \n",
            "\u001b[?25h"
          ]
        },
        {
          "output_type": "execute_result",
          "data": {
            "text/plain": [
              "{'restart': True, 'status': 'ok'}"
            ]
          },
          "metadata": {},
          "execution_count": 1
        }
      ]
    },
    {
      "cell_type": "code",
      "source": [
        "from fastai.vision.all import *"
      ],
      "metadata": {
        "id": "Rlb2U0GCGhUx"
      },
      "execution_count": 1,
      "outputs": []
    },
    {
      "cell_type": "code",
      "execution_count": null,
      "metadata": {
        "id": "Vx9eVsGuGI-u"
      },
      "outputs": [],
      "source": [
        "!wget https://www.dropbox.com/s/o1eaoae59qgdo4i/Training_Set_Pre.zip?dl=0 -O train.zip\n",
        "!wget https://www.dropbox.com/s/5od5cac9xhxlcwu/Test_Set_Pre.zip?dl=0 -O test.zip\n",
        "!wget https://www.dropbox.com/s/gjz445xm4oddfus/Evaluation_Set_Pre.zip?dl=0 -O val.zip"
      ]
    }
  ]
}
